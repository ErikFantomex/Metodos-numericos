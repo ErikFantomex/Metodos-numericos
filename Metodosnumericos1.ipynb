{
  "nbformat": 4,
  "nbformat_minor": 0,
  "metadata": {
    "colab": {
      "provenance": [],
      "authorship_tag": "ABX9TyPl6hWI53ihJT+kQgsFzYqA",
      "include_colab_link": true
    },
    "kernelspec": {
      "name": "python3",
      "display_name": "Python 3"
    },
    "language_info": {
      "name": "python"
    }
  },
  "cells": [
    {
      "cell_type": "markdown",
      "metadata": {
        "id": "view-in-github",
        "colab_type": "text"
      },
      "source": [
        "<a href=\"https://colab.research.google.com/github/ErikFantomex/Metodos-numericos/blob/main/Metodosnumericos1.ipynb\" target=\"_parent\"><img src=\"https://colab.research.google.com/assets/colab-badge.svg\" alt=\"Open In Colab\"/></a>"
      ]
    },
    {
      "cell_type": "code",
      "execution_count": null,
      "metadata": {
        "colab": {
          "base_uri": "https://localhost:8080/"
        },
        "id": "YeEz3EDqneBQ",
        "outputId": "41cec954-1e12-4d5d-eeac-051d93e1a049"
      },
      "outputs": [
        {
          "output_type": "stream",
          "name": "stdout",
          "text": [
            "[-0.12957043  1.67672328  2.13636364]\n",
            "6.417657342657334\n"
          ]
        }
      ],
      "source": [
        "\n",
        "import numpy as np\n",
        "\n",
        "mes = np.array([1, 2, 3, 4, 5, 6, 7, 8, 9, 10, 11, 12])\n",
        "rad_solar = np.array([4.0, 4.6, 5.4, 6.6, 8.3, 8.5, 6.9, 6.6, 6.7, 6.0, 4.7, 3.9])\n",
        "coef = np.polyfit(mes, rad_solar, 2)\n",
        "print(coef)\n",
        "\n",
        "mes_pred = 3.5\n",
        "rad_pred = coef[0]*mes_pred**2 + coef[1]*mes_pred + coef[2]\n",
        "\n",
        "print(rad_pred)\n"
      ]
    },
    {
      "cell_type": "markdown",
      "source": [
        "Para predecir el nivel de radiación solar a mediados de los meses de julio y agosto mediante polinomios de interpolación de Newton con diferencias divididas hasta tercer grado, podemos seguir los siguientes pasos:\n",
        "\n",
        "    Definir los arreglos de los datos:\n",
        "\n",
        "Definamos los arreglos de los datos como:\n",
        "\n",
        "\\begin{align*}\n",
        "M &= \\text{['Ene', 'Feb', 'Mar', 'Abr', 'May', 'Jun', 'Jul', 'Ago', 'Sep', 'Oct', 'Nov', 'Dic']} \\\n",
        "R &= \\text{[4.0, 4.6, 5.4, 6.6, 8.3, 8.5, 6.9, 6.6, 6.7, 6.0, 4.7, 3.9]}\n",
        "\\end{align*}\n",
        "\n",
        "    Definir la función de diferencias divididas:\n",
        "\n",
        "Podemos definir una función de diferencias divididas para calcular los coeficientes de los polinomios de interpolación de Newton. La función toma como entrada los arreglos de los datos x y y, y devuelve una lista de coeficientes a de longitud n, donde n es el grado del polinomio de interpolación.\n",
        "\n",
        "\\begin{lstlisting}[language=Python]\n",
        "def diferencia_dividida(x, y):\n",
        "n = len(x)\n",
        "a = y.copy()\n",
        "for j in range(1, n):\n",
        "for i in range(n-1, j-1, -1):\n",
        "a[i] = (a[i] - a[i-1]) / (x[i] - x[i-j])\n",
        "return a[:n]\n",
        "\\end{lstlisting}\n",
        "\n",
        "    Definir la función de interpolación de Newton:\n",
        "\n",
        "Podemos definir una función de interpolación de Newton para evaluar el polinomio de interpolación en un punto dado. La función toma como entrada los arreglos de los datos x y y, los coeficientes a calculados por la función de diferencias divididas, y el punto z en el que se desea evaluar el polinomio.\n",
        "\n",
        "\\begin{lstlisting}[language=Python]\n",
        "def newton_interpolacion(x, y, a, z):\n",
        "n = len(x)\n",
        "p = a[-1]\n",
        "for i in range(n-2, -1, -1):\n",
        "p = p * (z - x[i]) + a[i]\n",
        "return p\n",
        "\\end{lstlisting}\n",
        "\n",
        "    Calcular los coeficientes de los polinomios de interpolación:\n",
        "\n",
        "Para calcular los coeficientes de los polinomios de interpolación de Newton con diferencias divididas hasta tercer grado, podemos llamar a la función de diferencias divididas con los arreglos M y R, y tomar los primeros cuatro coeficientes:\n",
        "\n",
        "\\begin{lstlisting}[language=Python]\n",
        "a_julio = diferencia_dividida(M[5:8], R[5:8])\n",
        "a_agosto = diferencia_dividida(M[6:9], R[6:9])\n",
        "\\end{lstlisting}\n",
        "\n",
        "    Evaluar los polinomios de interpolación en los puntos deseados:\n",
        "\n",
        "Para evaluar los polinomios de interpolación en los puntos medios de julio y agosto, podemos llamar a la función de interpolación de Newton con los coeficientes correspondientes y los puntos 15.5 y 16.5, que corresponden al día"
      ],
      "metadata": {
        "id": "Y9T5uDZczUyO"
      }
    }
  ]
}