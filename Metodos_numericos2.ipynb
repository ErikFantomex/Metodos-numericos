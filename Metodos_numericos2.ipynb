{
  "nbformat": 4,
  "nbformat_minor": 0,
  "metadata": {
    "colab": {
      "provenance": [],
      "authorship_tag": "ABX9TyONTU2bKBNsHyo5USFHIax2",
      "include_colab_link": true
    },
    "kernelspec": {
      "name": "python3",
      "display_name": "Python 3"
    },
    "language_info": {
      "name": "python"
    }
  },
  "cells": [
    {
      "cell_type": "markdown",
      "metadata": {
        "id": "view-in-github",
        "colab_type": "text"
      },
      "source": [
        "<a href=\"https://colab.research.google.com/github/ErikFantomex/Metodos-numericos/blob/main/Metodos_numericos2.ipynb\" target=\"_parent\"><img src=\"https://colab.research.google.com/assets/colab-badge.svg\" alt=\"Open In Colab\"/></a>"
      ]
    },
    {
      "cell_type": "markdown",
      "source": [
        "Problema 2"
      ],
      "metadata": {
        "id": "-b92YPtM_ttS"
      }
    },
    {
      "cell_type": "markdown",
      "source": [
        "Para calcular el valor de k utilizando la regresión por mínimos cuadrados, primero debemos graficar los datos y observar si se ajustan a un modelo lineal. La relación lineal se puede ver en la figura como la relación de la fuerza (en el eje y) y el desplazamiento (en el eje x) hasta una fuerza de aproximadamente 40 × 104 N.\n",
        "\n",
        "Para ajustar la regresión lineal, usaremos la fórmula:\n",
        "\n",
        "$$y = mx + b$$\n",
        "\n",
        "donde $y$ es la variable dependiente (fuerza), $x$ es la variable independiente (desplazamiento), $m$ es la pendiente de la recta y $b$ es la intersección en el eje $y$.\n",
        "\n",
        "Primero, calculamos la pendiente de la recta $m$:\n",
        "\n",
        "$$m = \\frac{\\sum_{i=1}^n (x_i - \\bar{x})(y_i - \\bar{y})}{\\sum_{i=1}^n (x_i - \\bar{x})^2}$$\n",
        "\n",
        "donde $n$ es el número de datos, $x_i$ es el valor del desplazamiento en el dato $i$, $y_i$ es el valor de la fuerza en el dato $i$, $\\bar{x}$ es la media de los desplazamientos y $\\bar{y}$ es la media de las fuerzas.\n",
        "\n",
        "Calculando las medias:\n",
        "\n",
        "$$\\bar{x} = \\frac{\\sum_{i=1}^n x_i}{n} = 0.344$$\n",
        "\n",
        "$$\\bar{y} = \\frac{\\sum_{i=1}^n y_i}{n} = 45$$\n",
        "\n",
        "Calculando la pendiente:\n",
        "\n",
        "$$m = \\frac{\\sum_{i=1}^n (x_i - \\bar{x})(y_i - \\bar{y})}{\\sum_{i=1}^n (x_i - \\bar{x})^2} = \\frac{103.6}{0.142} = 729.58$$\n",
        "\n",
        "Ahora, calculamos la intersección en el eje $y$, $b$:\n",
        "\n",
        "$$b = \\bar{y} - m\\bar{x} = 45 - (729.58 \\times 0.344) = -216.1$$\n",
        "\n",
        "Por lo tanto, la ecuación de la recta que ajusta los datos es:\n",
        "\n",
        "$$y = 729.58x - 216.1$$\n",
        "\n",
        "La pendiente de la recta ($m$) es la constante $k$ del resorte. Por lo tanto, el valor de $k$ es de aproximadamente 729.58 N/m."
      ],
      "metadata": {
        "id": "POOSNKSR_g9c"
      }
    },
    {
      "cell_type": "markdown",
      "source": [
        "m & d & F & dF \\\\ \\hline\n",
        "0.10 & 0.101 & 1.00 & 0.101 \\\\\n",
        "0.17 & 0.173 & 2.00 & 0.346 \\\\\n",
        "0.27 & 0.275 & 3.00 & 0.825 \\\\\n",
        "0.37 & 0.377 & 4.00 & 1.508 \\\\\n",
        "0.39 & 0.398 & 5.00 & 1.988 \\\\\n",
        "0.42 & 0.428 & 6.00 & 2.568 \\\\\n",
        "0.43 & 0.438 & 7.00 & 3.066 \\\\\n",
        "0.44 & 0.448 & 8.00 & 3.584 \\\\ \\hline\n",
        "& \\sum x = 2.569 & & \\sum xy = 13.046\n",
        "\\end{array}$$\n",
        "$$\\begin{align}\n",
        "\\sum x^2 &= 0.101^2 + 0.173^2 + \\cdots + 0.448^2 \\\\\n",
        "&= 0.0615 \\\\\n",
        "\\sum y^2 &= 1^2 + 2^2 + \\cdots + 8^2 \\\\\n",
        "&= 204\n",
        "\\end{align}$$\n",
        "A continuación, podemos utilizar las fórmulas de la regresión lineal simple para calcular los coeficientes de la recta de regresión:\n",
        "$$\\begin{align}\n",
        "\\beta_1 &= \\frac{\\sum xy - n\\bar{x}\\bar{y}}{\\sum x^2 - n\\bar{x}^2} \\\\\n",
        "&= \\frac{13.046 - 8 \\cdot 0.316 \\cdot 4.5}{0.0615 - 8 \\cdot 0.316^2} \\\\\n",
        "&= 40.1 \\\\\n",
        "\\beta_0 &= \\bar{y} - \\beta_1\\bar{x} \\\\\n",
        "&= 4.5 - 40.1 \\cdot 0.316 \\\\\n",
        "&= -8.0\n",
        "\\end{align}$$\n",
        "Por lo tanto, la ecuación de la recta de regresión"
      ],
      "metadata": {
        "id": "M2Qgrlgo_Tzj"
      }
    },
    {
      "cell_type": "markdown",
      "source": [],
      "metadata": {
        "id": "uheyW1A1_o4O"
      }
    },
    {
      "cell_type": "code",
      "execution_count": null,
      "metadata": {
        "colab": {
          "base_uri": "https://localhost:8080/",
          "height": 265
        },
        "id": "PoC4H8j__EfY",
        "outputId": "beef6d96-c2bc-487d-b485-57b4605f4ccf"
      },
      "outputs": [
        {
          "output_type": "display_data",
          "data": {
            "text/plain": [
              "<Figure size 432x288 with 1 Axes>"
            ],
            "image/png": "[encoded data removed]"
          },
          "metadata": {
            "needs_background": "light"
          }
        }
      ],
      "source": [
        "#Problema 3 \n",
        "import numpy as np\n",
        "import matplotlib.pyplot as plt\n",
        "\n",
        "# Datos de la tabla\n",
        "x = np.array([1.0, 1.1, 1.3, 1.5, 1.9, 2.1])\n",
        "y = np.array([1.84, 1.96, 2.21, 2.45, 2.9, 3.18])\n",
        "\n",
        "# Polinomio de primer grado (recta)\n",
        "A = np.vstack([x, np.ones(len(x))]).T\n",
        "m1, c1 = np.linalg.lstsq(A, y, rcond=None)[0]\n",
        "\n",
        "# Polinomio de segundo grado (parábola)\n",
        "A = np.vstack([x**2, x, np.ones(len(x))]).T\n",
        "a2, b2, c2 = np.linalg.lstsq(A, y, rcond=None)[0]\n",
        "\n",
        "# Polinomio de tercer grado\n",
        "A = np.vstack([x**3, x**2, x, np.ones(len(x))]).T\n",
        "a3, b3, c3, d3 = np.linalg.lstsq(A, y, rcond=None)[0]\n",
        "\n",
        "# Valores de r\n",
        "r1 = np.sqrt(np.sum((m1*x + c1 - y)**2) / (len(x) - 2))\n",
        "r2 = np.sqrt(np.sum((a2*x**2 + b2*x + c2 - y)**2) / (len(x) - 3))\n",
        "r3 = np.sqrt(np.sum((a3*x**3 + b3*x**2 + c3*x + d3 - y)**2) / (len(x) - 4))\n",
        "\n",
        "# Gráfica\n",
        "plt.scatter(x, y, label=\"Datos\")\n",
        "plt.plot(x, m1*x + c1, label=f\"Recta (r={r1:.2f})\")\n",
        "plt.plot(x, a2*x**2 + b2*x + c2, label=f\"Parábola (r={r2:.2f})\")\n",
        "plt.plot(x, a3*x**3 + b3*x**2 + c3*x + d3, label=f\"Cúbica (r={r3:.2f})\")\n",
        "plt.legend()\n",
        "plt.show()"
      ]
    },
    {
      "cell_type": "markdown",
      "source": [
        "El resultado de la regresión es:\n",
        "\n",
        "    Polinomio de primer grado (recta):\n",
        "        $y = 0.914x + 0.926$\n",
        "        Coeficiente de determinación: $r^2 = 0.991$, lo que indica un buen ajuste.\n",
        "\n",
        "    Polinomio de segundo grado (parábola):\n",
        "        $y = 1.055x^2 - 2.003x + 3.125$\n",
        "        Coeficiente de determinación: $r^2 = 0.999$, lo que indica un muy buen ajuste.\n",
        "\n",
        "    Polinomio de tercer grado:\n",
        "        $y = -0.708x^3 + 5.865x^2 - 14.088x + 10.889$\n",
        "        Coeficiente de determinación: $r^2 = 1.000$, lo que indica un ajuste perfecto.\n",
        "\n",
        "El polinomio que mejor ajusta los datos es el de tercer grado, ya que tiene un coeficiente de determinación perfecto."
      ],
      "metadata": {
        "id": "v6Pfp-H7AFCX"
      }
    },
    {
      "cell_type": "code",
      "source": [
        "import matplotlib.pyplot as plt\n",
        "import numpy as np\n",
        "\n",
        "x = np.array([0, 0.15, 0.31, 0.5, 0.6, 0.75])\n",
        "y = np.array([1.0, 1.004, 1.031, 1.117, 1.223, 1.422])\n",
        "\n",
        "plt.plot(x, y, 'o')\n",
        "plt.xlabel('x')\n",
        "plt.ylabel('y')\n",
        "plt.show()\n",
        "\n",
        "#Para el polinomio de grado 1:\n",
        "\n"
      ],
      "metadata": {
        "id": "bcO_kCtmAAwa"
      },
      "execution_count": null,
      "outputs": []
    },
    {
      "cell_type": "code",
      "source": [
        "n = \n",
        "b = ((n*sum(xy)) - (sum(x)*sum(y))) / ((n*sum(x2)) - (sum(x)**2))\n",
        "a = (sum(y) - (b*sum(x))) / n\n",
        "\n",
        "A = np.array([[n, sum(x), sum(x**2)],\n",
        "              [sum(x), sum(x**2), sum(x**3)],\n",
        "              [sum(x**2), sum(x**3), sum(x**4)]])\n",
        "B = np.array([sum(y), sum(xy), sum(x**2*y)])\n",
        "coeffs2 = np.linalg.solve(A, B)\n",
        "\n",
        "A = np.array([[n, sum(x), sum(x**2), sum(x**3)],\n",
        "              [sum(x), sum(x**2), sum(x**3), sum(x**4)],\n",
        "              [sum(x**2), sum(x**3), sum(x**4), sum(x**5)],\n",
        "              [sum(x**3), sum(x**4), sum(x**5), sum(x**6)]])\n",
        "B = np.array([sum(y), sum(xy), sum(x**2*y), sum(x**3*y)])\n",
        "coeffs3 = np.linalg.solve(A, B)"
      ],
      "metadata": {
        "id": "fk_agq2KAbVG"
      },
      "execution_count": null,
      "outputs": []
    },
    {
      "cell_type": "markdown",
      "source": [
        "El resultado de la regresión es:\n",
        "\n",
        "    Polinomio de primer grado (recta):\n",
        "        $y = 0.914x + 0.926$\n",
        "        Coeficiente de determinación: $r^2 = 0.991$, lo que indica un buen ajuste.\n",
        "\n",
        "    Polinomio de segundo grado (parábola):\n",
        "        $y = 1.055x^2 - 2.003x + 3.125$\n",
        "        Coeficiente de determinación: $r^2 = 0.999$, lo que indica un muy buen ajuste.\n",
        "\n",
        "    Polinomio de tercer grado:\n",
        "        $y = -0.708x^3 + 5.865x^2 - 14.088x + 10.889$\n",
        "        Coeficiente de determinación: $r^2 = 1.000$, lo que indica un ajuste perfecto.\n",
        "\n",
        "El polinomio que mejor ajusta los datos es el de tercer grado, ya que tiene un coeficiente de determinación perfecto."
      ],
      "metadata": {
        "id": "AuWwY-7VA2VL"
      }
    },
    {
      "cell_type": "markdown",
      "source": [
        "    Para los datos (x = 1.0, 1.1, 1.3, 1.5 ,1.9, 2.1 , y = 1.84 ,1.96, 2.21, 2.45, 2.9, 3.18)\n",
        "\n",
        "El polinomio de grado 1 es:\n",
        "\n",
        "$$y = 1.5225x + 0.2175$$\n",
        "\n",
        "El polinomio de grado 2 es:\n",
        "\n",
        "$$y = 0.5063x^{2} + 0.9650x + 0.2964$$\n",
        "\n",
        "El polinomio de grado 3 es:\n",
        "\n",
        "$$y = -0.0664x^{3} + 0.9048x^{2} + 0.2427x + 0.4157$$\n",
        "\n",
        "El coeficiente de correlación es $r = 0.9977$. El polinomio que mejor ajusta a los datos es el de grado 3.\n",
        "\n",
        "    Para los datos (x = 0 ,0.15, 0.31, 0.5, 0.6, 0.75 y = 1.0 ,1.004, 1.031, 1.117, 1.223 ,1.422)\n",
        "\n",
        "El polinomio de grado 1 es:\n",
        "\n",
        "$$y = 3.4300x + 1.0000$$\n",
        "\n",
        "El polinomio de grado 2 es:\n",
        "\n",
        "$$y = 14.1300x^{2} - 8.5733x + 1.0207$$\n",
        "\n",
        "El polinomio de grado 3 es:\n",
        "\n",
        "$$y = -37.5670x^{3} + 72.6807x^{2} - 41.2780x + 1.0604$$\n",
        "\n",
        "El coeficiente de correlación es $r = 0.9999$. El polinomio que mejor ajusta a los datos es el de grado 3.\n",
        "\n",
        "    Para los datos (x = 0.2 , 0.3 , 0.6 , 0.9, 1.1, 1.3, 1.4 , 1.6 y = 0.050446, 0.098426, 0.33277, 0.72660, 1.0972 ,1.5697 ,1.8487 ,2.5015)\n",
        "\n",
        "El polinomio de grado 1 es:\n",
        "\n",
        "$$y = 2.2141x - 0.2273$$\n",
        "\n",
        "El polinomio de grado 2 es:\n",
        "\n",
        "$$y = 3.2166x^{2} - 5.2042x + 1.2025$$\n",
        "\n",
        "El polinomio de grado 3 es:\n",
        "\n",
        "$$y = 5.7649x^{3} - 16.9116x^{2} + 16.2655x - 1.5526$$\n",
        "\n",
        "El coeficiente de correlación es $r = 0.9995$. El polinomio que mejor ajusta a los datos es el de grado 3.\n",
        "\n",
        "    Para los datos (x = 4.0, 4.2, 4.5, 4.7, 5.1, 5.5, 5.9, 6.3, 6.8, 7.1 y = 102.56, 113.18, 130.11,"
      ],
      "metadata": {
        "id": "x31jyutKFC-P"
      }
    },
    {
      "cell_type": "markdown",
      "source": [
        "    Calcular la sumatoria de las variables x e y, la sumatoria de x^2 y la sumatoria de x^3, etc. hasta la sumatoria de x^n.\n",
        "\n",
        "    Calcular la sumatoria de xy, x^2y, x^3y, etc. hasta la sumatoria de x^ny.\n",
        "\n",
        "    Construir un sistema de ecuaciones utilizando las ecuaciones normales:\n",
        "\n",
        "    $a_{11}β_{1} + a_{12}β_{2} + a_{13}β_{3} + ... + a_{1n}β_{n} = γ_{1}$\n",
        "\n",
        "    $a_{21}β_{1} + a_{22}β_{2} + a_{23}β_{3} + ... + a_{2n}β_{n} = γ_{2}$\n",
        "\n",
        "    $a_{31}β_{1} + a_{32}β_{2} + a_{33}β_{3} + ... + a_{3n}β_{n} = γ_{3}$\n",
        "\n",
        "    $...$\n",
        "\n",
        "    $a_{n1}β_{1} + a_{n2}β_{2} + a_{n3}β_{3} + ... + a_{nn}β_{n} = γ_{n}$\n",
        "\n",
        "    Donde:\n",
        "\n",
        "    $a_{ij}$ es la sumatoria de x^(i+j-2).\n",
        "\n",
        "    $β_{j}$ es el coeficiente del término x^(j-1).\n",
        "\n",
        "    $γ_{i}$ es la sumatoria de y*x^(i-1).\n",
        "\n",
        "    Resolver el sistema de ecuaciones utilizando cualquier método de resolución de sistemas lineales. Esto nos dará los valores de los coeficientes del polinomio.\n",
        "\n",
        "    Escribir el polinomio resultante."
      ],
      "metadata": {
        "id": "Yqiw7RCgHvwq"
      }
    },
    {
      "cell_type": "markdown",
      "source": [],
      "metadata": {
        "id": "VoPHLlchILxS"
      }
    },
    {
      "cell_type": "markdown",
      "source": [
        "$\\sum x = 46.0$\n",
        "\n",
        "$\\sum y = 1858.59$\n",
        "\n",
        "$\\sum x^2 = 263.64$\n",
        "\n",
        "$\\sum x^3 = 1453.914$\n",
        "\n",
        "$\\sum x^4 = 8392.1156$\n",
        "\n",
        "$\\sum x^5 = 49893.5584$\n",
        "\n",
        "$\\sum x^6 = 299373.9333$\n",
        "\n",
        "$\\sum x^7 = 1806266.968$\n",
        "\n",
        "$\\sum x^8 = 10903515.232$\n",
        "\n",
        "$\\sum x^9 = 65913967.568$\n",
        "\n",
        "$\\sum x^{10} = 398180640.752$\n",
        "\n",
        "$\\sum xy = 63487.864$\n",
        "\n",
        "$\\sum x^2y = 316223.3712$\n",
        "\n",
        "$\\sum x^3y = 1732638.5501$\n",
        "\n",
        "$\\sum x^4y = 10036081.1628$\n",
        "\n",
        "$\\sum x^5y = 61826933.9525$\n",
        "\n",
        "Se construye el sistema de ecuaciones:\n",
        "\n",
        "$10β_{1} + 46β_{\n",
        "\n",
        "Entonces, tenemos el sistema de ecuaciones:\n",
        "\n",
        "\\begin{align*}\n",
        "10a_0 + 32a_1 &= 1545.07 \\\n",
        "32a_0 + 111.2a_1 + 357.92a_2 &= 54637.3276 \\\n",
        "154.4a_0 + 357.92a_1 + 1044.18a_2 + 3316.35a_3 &= 1.007 \\times 10^6\n",
        "\\end{align*}\n",
        "\n",
        "Resolviendo este sistema, encontramos:\n",
        "\n",
        "$$a_0 = 1.5307, \\quad a_1 = 14.0376, \\quad a_2 = -3.5217, \\quad a_3 = 0.3131$$\n",
        "\n",
        "Por lo tanto, el polinomio de tercer grado que mejor se ajusta a los datos es:\n",
        "\n",
        "$$P(x) = 1.5307 + 14.0376x - 3.5217x^2 + 0.3131x^3$$\n",
        "\n",
        "Para evaluar el coeficiente de correlación $r$, primero necesitamos calcular la suma de cuadrados total (SCT), la suma de cuadrados de la regresión (SCR) y la suma de cuadrados del error (SCE):\n",
        "\n",
        "\\begin{align*}\n",
        "\\text{SCT} &= \\sum_{i=1}^{10} (y_i - \\overline{y})^2 = 17267.3016 \\\n",
        "\\text{SCR} &= \\sum_{i=1}^{10} (\\hat{y}i - \\overline{y})^2 = 17254.5874 \\\n",
        "\\text{SCE} &= \\sum{i=1}^{10} (y_i - \\hat{y}_i)^2 = 12.7142\n",
        "\\end{align*}\n",
        "\n",
        "donde $\\overline{y}$ es la media de los valores de $y$ y $\\hat{y}_i$ es el valor estimado de $y$ correspondiente a $x_i$ usando el polinomio de tercer grado.\n",
        "\n",
        "Entonces, el coeficiente de determinación $R^2$ es:\n",
        "\n",
        "$$R^2 = \\frac{\\text{SCR}}{\\text{SCT}} = \\frac{17254.5874}{17267.3016} \\approx 0.997$$\n",
        "\n",
        "Y el coeficiente de correlación $r$ es la raíz cuadrada de $R^2$:\n",
        "\n",
        "$$r = \\sqrt{R^2} \\approx 0.998$$\n",
        "\n",
        "Por lo tanto, podemos concluir que el polinomio de tercer grado es el que mejor se ajusta a los datos, con un coeficiente de correlación muy cercano a 1, lo que indica un ajuste muy bueno."
      ],
      "metadata": {
        "id": "CmlX3lNkH_6g"
      }
    },
    {
      "cell_type": "markdown",
      "source": [
        "#"
      ],
      "metadata": {
        "id": "TXuG_h7wJa25"
      }
    },
    {
      "cell_type": "markdown",
      "source": [
        "Horacio Araiza Gonzalez\n",
        "Obtenga los polinomios de mínimos cuadrados de primero, segundo y tercer grados\n",
        "para los datos de las tablas dadas; evalúe también r; determine cual polinomio ajusta\n",
        "mejor a los datos  (x = 4.0, 4.2, 4.5, 4.7, 5.1, 5.5, 5.9, 6.3, 6.8, 7.1 \n",
        "y = 102.56, 113.18, 130.11, 142.05, 167.53, 195.14 ,224.87, 256.73, 299.50, 326.72) con detalle "
      ],
      "metadata": {
        "id": "VfgwolcxJQtL"
      }
    },
    {
      "cell_type": "markdown",
      "source": [
        "Para encontrar los polinomios de mínimos cuadrados de primero, segundo y tercer grado para los datos dados, utilizaremos la fórmula general para la regresión polinómica:\n",
        "\n",
        "$$y = a_0 + a_1 x + a_2 x^2 + \\cdots + a_n x^n$$\n",
        "\n",
        "donde $y$ es la variable dependiente, $x$ es la variable independiente, $a_i$ son los coeficientes de regresión y $n$ es el grado del polinomio.\n",
        "\n",
        "Primero, encontramos la recta de regresión de primer grado utilizando las fórmulas:\n",
        "\n",
        "$$n = 10$$\n",
        "$$\\sum_{i=1}^n x_i = 48.0$$\n",
        "$$\\sum_{i=1}^n y_i = 1862.49$$\n",
        "$$\\sum_{i=1}^n x_i^2 = 252.12$$\n",
        "$$\\sum_{i=1}^n y_i^2 = 727307.4511$$\n",
        "$$\\sum_{i=1}^n x_iy_i = 12291.95$$\n",
        "\n",
        "El coeficiente de regresión $a_1$ se puede calcular como:\n",
        "\n",
        "$$a_1 = \\frac{n\\sum_{i=1}^n x_iy_i - \\sum_{i=1}^n x_i \\sum_{i=1}^n y_i}{n\\sum_{i=1}^n x_i^2 - \\left(\\sum_{i=1}^n x_i\\right)^2} = \\frac{10 \\times 12291.95 - 48.0 \\times 1862.49}{10 \\times 252.12 - (48.0)^2} = 28.6574$$\n",
        "\n",
        "El coeficiente de regresión $a_0$ se puede calcular como:\n",
        "\n",
        "$$a_0 = \\frac{\\sum_{i=1}^n y_i}{n} - a_1\\frac{\\sum_{i=1}^n x_i}{n} = \\frac{1862.49}{10} - 28.6574\\frac{48.0}{10} = -1.0544$$\n",
        "\n",
        "Por lo tanto, la recta de regresión de primer grado es:\n",
        "\n",
        "$$y = -1.0544 + 28.6574x$$\n",
        "\n",
        "La suma de los cuadrados de los residuos (SSR) se puede calcular como:\n",
        "\n",
        "$$SSR = \\sum_{i=1}^n (y_i - \\hat{y}i)^2 = \\sum{i=1}^n (y_i - a_0 - a_1 x_i)^2 = 330.1411$$\n",
        "\n",
        "El error estándar de la estimación (S) se puede calcular como:\n",
        "\n",
        "$$S = \\sqrt{\\frac{SSR}{n-2}} = \\sqrt{\\frac{330.1411}{10-2}} = 6.0991$$\n",
        "\n",
        "El coeficiente de determinación ($r^2$) se puede calcular como:\n",
        "\n",
        "$$r^2 = 1 - \\frac{SSR}{\\sum_{i=1}^n (y_i - \\bar{y})^2} = 1 - \\frac{330.1411}{727307.4511} = 0.999547$$\n",
        "\n",
        "A continuación, encontramos el polinomio de regresión de segundo grado utilizando las fórmulas"
      ],
      "metadata": {
        "id": "ud2_8eLcJLwF"
      }
    },
    {
      "cell_type": "markdown",
      "source": [
        "$$\\begin{pmatrix} 10 & 32.1 & 80.1 \\ 32.1 & 80.1 & 214.7 \\ 80.1 & 214.7 & 621.77 \\end{pmatrix}\\begin{pmatrix} a_0 \\ a_1 \\ a_2 \\end{pmatrix} = \\begin{pmatrix} 1435.03 \\ 4285.054 \\ 12927.046 \\end{pmatrix}$$\n",
        "\n",
        "Resolviendo este sistema de ecuaciones, encontramos:\n",
        "\n",
        "$$a_0 = -758.3922$$\n",
        "\n",
        "$$a_1 = 229.6727$$\n",
        "\n",
        "$$a_2 = -13.7204$$\n",
        "\n",
        "Por lo tanto, el polinomio de segundo grado que mejor ajusta a los datos es:\n",
        "\n",
        "$$y = -758.3922 + 229.6727x - 13.7204x^2$$\n",
        "\n",
        "Para evaluar el coeficiente de correlación, primero debemos calcular la suma de los cuadrados totales (SCT), la suma de los cuadrados de las diferencias (SCE) y la suma de los cuadrados de los residuos (SCR):\n",
        "\n",
        "$$SCT = \\sum(y_i - \\bar{y})^2 = 36534.4131$$\n",
        "\n",
        "$$SCE = \\sum(\\hat{y_i} - \\bar{y})^2 = 33687.4211$$\n",
        "\n",
        "$$SCR = \\sum(y_i - \\hat{y_i})^2 = 2846.992$$\n",
        "\n",
        "Luego, podemos calcular el coeficiente de determinación ($R^2$):\n",
        "\n",
        "$$R^2 = \\frac{SCE}{SCT} = \\frac{33687.4211}{36534.4131} = 0.9222$$\n",
        "\n",
        "Por lo tanto, el polinomio de segundo grado que mejor ajusta a los datos tiene un coeficiente de determinación de 0.9222, lo que indica que explica el 92.22% de la variabilidad en los datos.\n",
        "\n",
        "En conclusión, el polinomio de segundo grado es el que mejor ajusta a los datos y explica la mayoría de la variabilidad en los datos."
      ],
      "metadata": {
        "id": "vEgU_2qnJX3L"
      }
    },
    {
      "cell_type": "code",
      "source": [],
      "metadata": {
        "id": "wBsnNbG8KL1Q"
      },
      "execution_count": null,
      "outputs": []
    },
    {
      "cell_type": "code",
      "source": [],
      "metadata": {
        "id": "vCx9GYAVKL4F"
      },
      "execution_count": null,
      "outputs": []
    },
    {
      "cell_type": "code",
      "source": [],
      "metadata": {
        "id": "Uz34wew3KL7C"
      },
      "execution_count": null,
      "outputs": []
    },
    {
      "cell_type": "code",
      "source": [],
      "metadata": {
        "id": "A9zrP4i7KMDk"
      },
      "execution_count": null,
      "outputs": []
    },
    {
      "cell_type": "markdown",
      "source": [
        "Dados los puntos $(x_i, y_i)$ con $i=1,\\ldots,6$ donde\n",
        "\\begin{align*}\n",
        "x &= (1.0, 1.1, 1.3, 1.5, 1.9, 2.1) \\\n",
        "y &= (1.84, 1.96, 2.21, 2.45, 2.9, 3.18)\n",
        "\\end{align*}\n",
        "se desea obtener el polinomio de tercer grado que mejor ajusta a los datos.\n",
        "\n",
        "Primero, se encuentra el valor de $n$, la cantidad de puntos:\n",
        "$$n = 6$$\n",
        "\n",
        "Luego, se calculan los valores de $\\sum x_i$, $\\sum y_i$, $\\sum x_i^2$, $\\sum x_i^3$, $\\sum x_i^4$, $\\sum x_i y_i$, $\\sum x_i^2 y_i$, y $\\sum x_i^3 y_i$:\n",
        "\\begin{align*}\n",
        "\\sum x_i &= 8.9 \\\n",
        "\\sum y_i &= 14.54 \\\n",
        "\\sum x_i^2 &= 16.18 \\\n",
        "\\sum x_i^3 &= 30.142 \\\n",
        "\\sum x_i^4 &= 60.1306 \\\n",
        "\\sum x_i y_i &= 28.584 \\\n",
        "\\sum x_i^2 y_i &= 54.3622 \\\n",
        "\\sum x_i^3 y_i &= 106.77782\n",
        "\\end{align*}\n",
        "\n",
        "Utilizando estas sumas, se construye el sistema de ecuaciones lineales:\n",
        "\\begin{align*}\n",
        "a_0 n + a_1 \\sum x_i + a_2 \\sum x_i^2 + a_3 \\sum x_i^3 &= \\sum y_i \\\n",
        "a_0 \\sum x_i + a_1 \\sum x_i^2 + a_2 \\sum x_i^3 + a_3 \\sum x_i^4 &= \\sum x_i y_i \\\n",
        "a_0 \\sum x_i^2 + a_1 \\sum x_i^3 + a_2 \\sum x_i^4 + a_3 \\sum x_i^5 &= \\sum x_i^2 y_i \\\n",
        "a_0 \\sum x_i^3 + a_1 \\sum x_i^4 + a_2 \\sum x_i^5 + a_3 \\sum x_i^6 &= \\sum x_i^3 y_i \\\n",
        "\\end{align*}\n",
        "Sustituyendo las sumas, el sistema se puede escribir como:\n",
        "\\begin{align*}\n",
        "6a_0 + 8.9a_1 + 16.18a_2 + 30.142a_3 &= 14.54 \\\n",
        "8.9a_0 + 16.18a_1 + 30.142a_2 + 60.1306a_3 &= 28.584 \\\n",
        "16.18a_0 + 30.142a_1 + 60.1306a_2 + 118.5562a_3 &= 54.3622 \\\n",
        "30.142a_0 + 60.1306a_1 + 118.5562a_2 + 233.507402a_3 &= 106.77782 \\\n",
        "\\end{align*}"
      ],
      "metadata": {
        "id": "2WQLxxoFMl08"
      }
    },
    {
      "cell_type": "markdown",
      "source": [
        "Primero, calculamos las sumas y productos de los datos:\n",
        "\n",
        "\\begin{align*}\n",
        "n &= 6 \\\n",
        "\\sum x_i &= 9.9 \\\n",
        "\\sum x_i^2 &= 19.94 \\\n",
        "\\sum x_i^3 &= 37.834 \\\n",
        "\\sum x_i^4 &= 75.2128 \\\n",
        "\\sum y_i &= 14.34 \\\n",
        "\\sum x_iy_i &= 26.924 \\\n",
        "\\sum x_i^2 y_i &= 51.6434\n",
        "\\end{align*}\n",
        "\n",
        "Luego, aplicamos las fórmulas para obtener los coeficientes de los polinomios de primer, segundo y tercer grado:\n",
        "\n",
        "Polinomio de primer grado:\n",
        "\n",
        "\\begin{align*}\n",
        "a_1 &= \\frac{n\\sum x_iy_i - \\sum x_i \\sum y_i}{n\\sum x_i^2 - (\\sum x_i)^2} = \\frac{6(26.924)-(9.9)(14.34)}{6(19.94)-(9.9)^2} \\approx 1.293 \\\n",
        "b_1 &= \\frac{\\sum y_i - a_1 \\sum x_i}{n} = \\frac{14.34 - (1.293)(9.9)}{6} \\approx -0.0805\n",
        "\\end{align*}\n",
        "\n",
        "Por lo tanto, el polinomio de primer grado es:\n",
        "y=1.293x−0.0805\n",
        "y=1.293x−0.0805\n",
        "\n",
        "Polinomio de segundo grado:\n",
        "\n",
        "\\begin{align*}\n",
        "a_2 &= \\frac{n\\sum x_i^2 y_i - \\sum x_i^2 \\sum y_i}{n\\sum x_i^4 - (\\sum x_i^2)^2} = \\frac{6(51.6434)-(19.94)(14.34)}{6(75.2128)-(19.94)^2} \\approx 0.972 \\\n",
        "b_2 &= \\frac{\\sum x_iy_i - a_2 \\sum x_i^2}{n} = \\frac{26.924 - (0.972)(19.94)}{6} \\approx -0.144 \\\n",
        "c_2 &= \\frac{\\sum y_i - a_2 \\sum x_i - b_2 \\sum x_i^2}{n} = \\frac{14.34 - (0.972)(9.9) - (-0.144)(19.94)}{6} \\approx 0.096\n",
        "\\end{align*}\n",
        "\n",
        "Por lo tanto, el polinomio de segundo grado es:\n",
        "y=0.972x2−0.144x+0.096\n",
        "y=0.972x2−0.144x+0.096\n",
        "\n",
        "Polinomio de tercer grado:\n",
        "\n",
        "\\begin{align*}\n",
        "a_3 &= \\frac{\\sum y_i(x_i-\\bar{x})^3}{n\\sum(x_i-\\bar{x})^4} = \\frac{0.002042}{0.001737} \\approx 1.175 \\\n",
        "b_3 &= \\bar{y} - a_3\\bar{x} = 0.328 \\\n",
        "c_3 &= \\frac{\\sum(y_i-b_3-a_3x_i)(x_i-\\bar{x})^2}{n\\sum(x_i-\\bar{x})^4} = \\frac{0.000401}{0.001737} \\approx -0.231 \\\n",
        "d_3 &= \\frac{\\sum(y_i-b_3-a_3x_i)(x_i-\\bar{x})^3}{n\\sum(x\n",
        "\n",
        "\n",
        "\n",
        "Para obtener el coeficiente de determinación, se utiliza la fórmula:\n",
        "\n",
        "$$r^2 = 1 - \\frac{SS_{res}}{SS_{tot}}$$\n",
        "\n",
        "Donde $SS_{res}$ es la suma de los cuadrados de los residuos y $SS_{tot}$ es la suma de los cuadrados totales.\n",
        "\n",
        "La suma de los cuadrados totales se calcula como:\n",
        "\n",
        "$$SS_{tot} = \\sum_{i=1}^{n}(y_i - \\overline{y})^2$$\n",
        "\n",
        "La suma de los cuadrados de los residuos se calcula como:\n",
        "\n",
        "$$SS_{res} = \\sum_{i=1}^{n}(y_i - f(x_i))^2$$\n",
        "\n",
        "Donde $f(x_i)$ es la función que se ajusta a los datos.\n",
        "\n",
        "Para el polinomio de primer grado, se tiene:\n",
        "\n",
        "$$f(x) = 0.499x + 1.351$$\n",
        "\n",
        "Calculamos la suma de los cuadrados totales:\n",
        "\n",
        "$$SS_{tot} = \\sum_{i=1}^{6}(y_i - \\overline{y})^2 = 0.2513$$\n",
        "\n",
        "Calculamos la suma de los cuadrados de los residuos:\n",
        "\n",
        "$$SS_{res} = \\sum_{i=1}^{6}(y_i - f(x_i))^2 = 0.0292$$\n",
        "\n",
        "Entonces, el coeficiente de determinación para el polinomio de primer grado es:\n",
        "\n",
        "$$r^2 = 1 - \\frac{SS_{res}}{SS_{tot}} = 0.8844$$\n",
        "\n",
        "Para el polinomio de segundo grado, se tiene:\n",
        "\n",
        "$$f(x) = 1.026x^2 - 3.088x + 3.074$$\n",
        "\n",
        "Calculamos la suma de los cuadrados totales:\n",
        "\n",
        "$$SS_{tot} = \\sum_{i=1}^{6}(y_i - \\overline{y})^2 = 0.2513$$\n",
        "\n",
        "Calculamos la suma de los cuadrados de los residuos:\n",
        "\n",
        "$$SS_{res} = \\sum_{i=1}^{6}(y_i - f(x_i))^2 = 0.0095$$\n",
        "\n",
        "Entonces, el coeficiente de determinación para el polinomio de segundo grado es:\n",
        "\n",
        "$$r^2 = 1 - \\frac{SS_{res}}{SS_{tot}} = 0.9623$$\n",
        "\n",
        "Para el polinomio de tercer grado, se tiene:\n",
        "\n",
        "$$f(x) = 0.438x^3 - 2.324x^2 + 4.011x - 1.31$$\n",
        "\n",
        "Calculamos la suma de los cuadrados totales:\n",
        "\n",
        "$$SS_{tot} = \\sum_{i=1}^{6}(y_i - \\overline{y})^2 = 0.2513$$\n",
        "\n",
        "Calculamos la suma de los cuadrados de los residuos:\n",
        "\n",
        "$$SS_{res} = \\sum_{i=1}^{6}(y_i - f(x_i))^2 = 0.0014$$\n",
        "\n",
        "Entonces, el coeficiente de determinación para el polinomio de tercer grado es:\n",
        "\n",
        "$$r^2 = 1 - \\frac{SS_{res}}{SS_{tot}} = 0.9945$$\n",
        "\n",
        "Podemos concluir que el polinomio de tercer grado ajusta mejor a los datos ya que tiene el mayor coeficiente de determinación ($r^2 = 0.9945$)."
      ],
      "metadata": {
        "id": "Fb0-lbQELDvO"
      }
    },
    {
      "cell_type": "markdown",
      "source": [],
      "metadata": {
        "id": "Q6U3D2e1NYhs"
      }
    },
    {
      "cell_type": "markdown",
      "source": [],
      "metadata": {
        "id": "7bXUIYVGNYkn"
      }
    },
    {
      "cell_type": "markdown",
      "source": [],
      "metadata": {
        "id": "BXzLnjfVTCbJ"
      }
    },
    {
      "cell_type": "code",
      "source": [],
      "metadata": {
        "id": "MkPL4EJ_TAJR"
      },
      "execution_count": null,
      "outputs": []
    },
    {
      "cell_type": "markdown",
      "source": [
        "El polinomio cuadrático de regresión por mínimos cuadrados para los datos dados es:\n",
        "\n",
        "$$Cp = 6.727\\times10^{-8}T^2 - 0.0652T + 113.3$$\n",
        "\n",
        "Donde $Cp$ es el calor específico en cal/kg-mol y $T$ es la temperatura en °K.\n",
        "\n",
        "El coeficiente de correlación cuadrático $r^2$ es:\n",
        "\n",
        "$$r^2 = 0.9979$$\n",
        "\n",
        "Lo cual indica una buena ajuste de los datos al modelo cuadrático."
      ],
      "metadata": {
        "id": "E2IE-NuUTwjk"
      }
    },
    {
      "cell_type": "markdown",
      "source": [
        "Para calcular los valores de $C_p$ correspondientes a las temperaturas 750, 1100, 1350, 1600, 1850 y 2000 K, podemos utilizar las funciones de ajuste obtenidas en los incisos (a) y (b).\n",
        "\n",
        "(a) Ajuste lineal:\n",
        "Recordemos que la función de ajuste lineal obtenida fue:\n",
        "\n",
        "$$C_p = 0.0268T - 4923.2$$\n",
        "\n",
        "Por lo tanto, los valores de $C_p$ correspondientes a las temperaturas dadas son:\n",
        "\n",
        "\\begin{align*}\n",
        "C_{p,750} &= 0.0268(750) - 4923.2 = 33.1\\text{ cal/kg-mol}\\\n",
        "C_{p,1100} &= 0.0268(1100) - 4923.2 = 44.4\\text{ cal/kg-mol}\\\n",
        "C_{p,1350} &= 0.0268(1350) - 4923.2 = 50.5\\text{ cal/kg-mol}\\\n",
        "C_{p,1600} &= 0.0268(1600) - 4923.2 = 56.6\\text{ cal/kg-mol}\\\n",
        "C_{p,1850} &= 0.0268(1850) - 4923.2 = 62.7\\text{ cal/kg-mol}\\\n",
        "C_{p,2000} &= 0.0268(2000) - 4923.2 = 68.8\\text{ cal/kg-mol}\\\n",
        "\\end{align*}\n",
        "\n",
        "(b) Ajuste cuadrático:\n",
        "Recordemos que la función de ajuste cuadrático obtenida fue:\n",
        "\n",
        "$$C_p = -7.515\\times 10^{-6}T^2 + 0.0411T - 513.76$$\n",
        "\n",
        "Por lo tanto, los valores de $C_p$ correspondientes a las temperaturas dadas son:\n",
        "\n",
        "\\begin{align*}\n",
        "C_{p,750} &= -7.515\\times 10^{-6}(750)^2 + 0.0411(750) - 513.76 = 36.7\\text{ cal/kg-mol}\\\n",
        "C_{p,1100} &= -7.515\\times 10^{-6}(1100)^2 + 0.0411(1100) - 513.76 = 49.2\\text{ cal/kg-mol}\\\n",
        "C_{p,1350} &= -7.515\\times 10^{-6}(1350)^2 + 0.0411(1350) - 513.76 = 55.7\\text{ cal/kg-mol}\\\n",
        "C_{p,1600} &= -7.515\\times 10^{-6}(1600)^2 + 0.0411(1600) - 513.76 = 62.2\\text{ cal/kg-mol}\\\n",
        "C_{p,1850} &= -7.515\\times 10^{-6}(1850)^2 + 0.0411(1850) - 513.76 = 68.7\\text{ cal/kg-mol}\\\n",
        "C_{p,2000} &= -7.515\\times 10^{-6}(2000)^2 + 0.0411(2000) - 513.76 = 74.4\\text{ cal/kg-mol}\\\n",
        "\\end{align*}"
      ],
      "metadata": {
        "id": "iIvk5TyIUEof"
      }
    },
    {
      "cell_type": "markdown",
      "source": [
        "Para encontrar el modelo de regresión, se puede usar el método de mínimos cuadrados. Primero, se calcularán los valores medios de x e y, la suma de los productos cruzados, la suma de los cuadrados de x e y, y el número total de observaciones:\n",
        "\n",
        "$\\bar{x} = \\frac{\\sum_{i=1}^{n} x_i}{n} = \\frac{200+250+300+375+425+475+600}{7} = 375$\n",
        "\n",
        "$\\bar{y} = \\frac{\\sum_{i=1}^{n} y_i}{n} = \\frac{7.5+8.6+8.7+10+11.3+12.7+15.3}{7} = 10.29$\n",
        "\n",
        "$\\sum_{i=1}^{n} x_i y_i = 200 \\cdot 7.5 + 250 \\cdot 8.6 + 300 \\cdot 8.7 + 375 \\cdot 10 + 425 \\cdot 11.3 + 475 \\cdot 12.7 + 600 \\cdot 15.3 = 83790$\n",
        "\n",
        "$\\sum_{i=1}^{n} x_i^2 = 200^2 + 250^2 + 300^2 + 375^2 + 425^2 + 475^2 + 600^2 = 1147750$\n",
        "\n",
        "$\\sum_{i=1}^{n} y_i^2 = 7.5^2 + 8.6^2 + 8.7^2 + 10^2 + 11.3^2 + 12.7^2 + 15.3^2 = 596.89$\n",
        "\n",
        "$n = 7$\n",
        "\n",
        "Luego, se puede calcular la pendiente y la intersección de la línea de regresión:\n",
        "\n",
        "$s_{xy} = \\frac{\\sum_{i=1}^{n} x_i y_i}{n} - \\bar{x} \\bar{y} = \\frac{83790}{7} - 375 \\cdot 10.29 = -70.44$\n",
        "\n",
        "$s_{xx} = \\frac{\\sum_{i=1}^{n} x_i^2}{n} - \\bar{x}^2 = \\frac{1147750}{7} - 375^2 = 19375$\n",
        "\n",
        "$b = \\frac{s_{xy}}{s_{xx}} = \\frac{-70.44}{19375} \\approx -0.00364$\n",
        "\n",
        "$a = \\bar{y} - b \\bar{x} = 10.29 - (-0.00364) \\cdot 375 \\approx 11.92$\n",
        "\n",
        "Por lo tanto, el modelo de regresión es:\n",
        "\n",
        "$\\hat{y} = a + b x$\n",
        "\n",
        "$\\hat{y} = 11.92 - 0.00364 x$\n",
        "\n",
        "Para predecir la elongación porcentual a una temperatura de 400°C, se sustituye x = 400 en el modelo de regresión:\n",
        "\n",
        "$\\hat{y} = 11.92 - 0.00364 \\cdot 400 \\approx 10.48$\n",
        "\n",
        "Por lo tanto, se estima que la elongación porcentual a una temperatura de 400°C es de aproximadamente 10.48%."
      ],
      "metadata": {
        "id": "nJUtOWkzZ67W"
      }
    },
    {
      "cell_type": "code",
      "source": [
        "###########################"
      ],
      "metadata": {
        "id": "DcIoHkCjRf97"
      },
      "execution_count": null,
      "outputs": []
    },
    {
      "cell_type": "markdown",
      "source": [
        "a) Ajuste lineal:\n",
        "Primero, se calcularán las medias de las variables T y Cp:\n",
        "$$\\overline{T}=\\frac{1}{n}\\sum_{i=1}^{n}T_i=\\frac{280+650+1000+1200+1500+1700}{6}=1120\\ \\text{°K}$$\n",
        "\n",
        "$$\\overline{Cp}=\\frac{1}{n}\\sum_{i=1}^{n}Cp_i=\\frac{32.7+45.4+52.15+53.7+52.9+50.3}{6}=48.3\\ \\text{cal/kg-mol}$$\n",
        "\n",
        "Luego, se calcularán las sumas de los productos T*Cp y T^2:\n",
        "$$\\sum T_i=280+650+1000+1200+1500+1700=7280$$\n",
        "\n",
        "$$\\sum Cp_i=32.7+45.4+52.15+53.7+52.9+50.3=287.15$$\n",
        "\n",
        "$$\\sum T_iCp_i=(280)(32.7)+(650)(45.4)+(1000)(52.15)+(1200)(53.7)+(1500)(52.9)+(1700)(50.3)=1778590$$\n",
        "\n",
        "$$\\sum T_i^2=280^2+650^2+1000^2+1200^2+1500^2+1700^2=16250000$$\n",
        "\n",
        "A continuación, se calcula la pendiente $m$ y el intercepto $b$ de la recta de regresión:\n",
        "\n",
        "$$m=\\frac{\\sum T_iCp_i-n\\overline{T}\\overline{Cp}}{\\sum T_i^2-n\\overline{T}^2}=\\frac{1778590-6(1120)(48.3)}{16250000-6(1120)^2}\\approx0.02413$$\n",
        "\n",
        "$$b=\\overline{Cp}-m\\overline{T}=48.3-0.02413(1120)\\approx22.066$$\n",
        "\n",
        "Por lo tanto, el polinomio de regresión lineal es:\n",
        "\n",
        "$$Cp=0.02413T+22.066$$\n",
        "\n",
        "Para calcular el coeficiente de correlación lineal $r$, primero se calcula la desviación estándar de T y de Cp:\n",
        "\n",
        "$$s_T=\\sqrt{\\frac{\\sum(T_i-\\overline{T})^2}{n-1}}=\\sqrt{\\frac{(280-1120)^2+(650-1120)^2+\\dots+(1700-1120)^2}{6-1}}\\approx598.6$$\n",
        "\n",
        "$$s_{Cp}=\\sqrt{\\frac{\\sum(Cp_i-\\overline{Cp})^2}{n-1}}=\\sqrt{\\frac{(32.7-48.3)^2+(45.4-48.3)^2+\\dots+(50.3-48.3)^2}{6-1}}\\approx9.665$$\n",
        "\n",
        "Luego, se calcula la covarianza entre T y Cp:\n",
        "\n",
        "$$s_{TCp}=\\frac{\\sum(T_i-\\overline{T})(Cp_i-\\overline{Cp})}{n-1}=\\frac{(280-1120)(32.7-48.3)+(650-1120)(45.4-48.3)+\\dots+(1700-1120)(50.3-48.3)}{6-1}\\approx-49.91$$\n"
      ],
      "metadata": {
        "id": "ITtUZcD7RhdN"
      }
    },
    {
      "cell_type": "markdown",
      "source": [
        "Para calcular los valores de Cp para las temperaturas dadas, se deben sustituir los valores de T en las ecuaciones de regresión obtenidas en los incisos a) y b). Los resultados son:\n",
        "\n",
        "Para el ajuste lineal:\n",
        "\\begin{align*}\n",
        "Cp &= 0.0434T - 4.2556 \\\n",
        "Cp_{750} &= 29.2230 \\\n",
        "Cp_{1100} &= 44.9140 \\\n",
        "Cp_{1350} &= 56.6040 \\\n",
        "Cp_{1600} &= 68.2940 \\\n",
        "Cp_{1850} &= 79.9840 \\\n",
        "Cp_{2000} &= 87.0796 \\\n",
        "\\end{align*}\n",
        "\n",
        "Para el ajuste cuadrático:\n",
        "\\begin{align*}\n",
        "Cp &= 2.6195\\times 10^{-5}T^2 - 0.1191T + 48.3003 \\\n",
        "Cp_{750} &= 35.4406 \\\n",
        "Cp_{1100} &= 50.1987 \\\n",
        "Cp_{1350} &= 56.0819 \\\n",
        "Cp_{1600} &= 52.0912 \\\n",
        "Cp_{1850} &= 38.2266 \\\n",
        "Cp_{2000} &= 16.4880 \\\n",
        "\\end{align*}\n",
        "\n",
        "Los valores de Cp para las diferentes temperaturas se pueden graficar en las curvas obtenidas en los ajustes lineal y cuadrático para comparar los resultados."
      ],
      "metadata": {
        "id": "Kz-YJwOfSEqk"
      }
    },
    {
      "cell_type": "markdown",
      "source": [],
      "metadata": {
        "id": "31J3eMMKSBGS"
      }
    },
    {
      "cell_type": "code",
      "source": [
        "import matplotlib.pyplot as plt\n",
        "\n",
        "distancia = [2.4, 1.5, 2.4, 1.8, 1.8, 2.9, 1.2, 3, 1.2]\n",
        "ancho = [2.9, 2.1, 2.3, 2.1, 1.8, 2.7, 1.5, 2.9, 1.5]\n",
        "\n",
        "plt.scatter(distancia, ancho)\n",
        "plt.xlabel('Distancia (m)')\n",
        "plt.ylabel('Ancho de la pista (m)')\n",
        "plt.show()"
      ],
      "metadata": {
        "colab": {
          "base_uri": "https://localhost:8080/",
          "height": 279
        },
        "id": "hxUQ9m7cRjLa",
        "outputId": "2271cbe9-b0fa-45be-aed0-a9eba11b3201"
      },
      "execution_count": null,
      "outputs": [
        {
          "output_type": "display_data",
          "data": {
            "text/plain": [
              "<Figure size 432x288 with 1 Axes>"
            ],
            "image/png": "[encoded data removed]"
          },
          "metadata": {
            "needs_background": "light"
          }
        }
      ]
    },
    {
      "cell_type": "code",
      "source": [
        "import numpy as np\n",
        "import matplotlib.pyplot as plt\n",
        "\n",
        "# Datos\n",
        "distancia = np.array([2.4, 1.5, 2.4, 1.8, 1.8, 2.9, 1.2, 3, 1.2])\n",
        "ancho_pista = np.array([2.9, 2.1, 2.3, 2.1, 1.8, 2.7, 1.5, 2.9, 1.5])\n",
        "\n",
        "# Ajuste de la línea recta\n",
        "p = np.polyfit(distancia, ancho_pista, 1)\n",
        "\n",
        "# Coeficientes del ajuste\n",
        "pendiente = p[0]\n",
        "intercepto = p[1]\n",
        "\n",
        "# Rango de valores para graficar la línea recta\n",
        "x = np.linspace(min(distancia), max(distancia), 100)\n",
        "y = pendiente*x + intercepto\n",
        "\n",
        "# Gráfico de los datos y la línea recta\n",
        "plt.plot(distancia, ancho_pista, 'o', label='Datos')\n",
        "plt.plot(x, y, label='Ajuste lineal')\n",
        "plt.xlabel('Distancia (m)')\n",
        "plt.ylabel('Ancho de la pista (m)')\n",
        "plt.legend()\n",
        "plt.show()\n"
      ],
      "metadata": {
        "colab": {
          "base_uri": "https://localhost:8080/",
          "height": 279
        },
        "id": "SLaolghhgT6y",
        "outputId": "f8965ebe-4310-4145-f6c0-580c81b17247"
      },
      "execution_count": null,
      "outputs": [
        {
          "output_type": "display_data",
          "data": {
            "text/plain": [
              "<Figure size 432x288 with 1 Axes>"
            ],
            "image/png": "[encoded data removed]"
          },
          "metadata": {
            "needs_background": "light"
          }
        }
      ]
    },
    {
      "cell_type": "markdown",
      "source": [
        "Dado que la distancia promedio mínima de seguridad entre bicicletas y autos es de 2 m, podemos usar el modelo de regresión lineal para estimar el ancho de la pista necesaria para garantizar esta distancia de seguridad.\n",
        "\n",
        "La ecuación de la línea de regresión es:\n",
        "\n",
        "$$y = 0.74x + 0.13$$\n",
        "\n",
        "donde $y$ es la distancia en metros y $x$ es el ancho de la pista en metros.\n",
        "\n",
        "Para garantizar una distancia mínima de seguridad de 2 m, podemos sustituir $y$ por 2 y resolver para $x$:\n",
        "\n",
        "$$2 = 0.74x + 0.13$$\n",
        "\n",
        "$$1.87 = 0.74x$$\n",
        "\n",
        "$$x \\approx 2.53$$\n",
        "\n",
        "Por lo tanto, el ancho mínimo de la pista necesario para garantizar una distancia promedio mínima de seguridad de 2 m entre las bicicletas y los autos es de aproximadamente 2.53 metros.\n"
      ],
      "metadata": {
        "id": "Fn6HavYyhwTE"
      }
    },
    {
      "cell_type": "code",
      "source": [
        "import numpy as np\n",
        "import matplotlib.pyplot as plt\n",
        "\n",
        "x = np.array([0.2, 0.3, 0.6, 0.9, 1.1, 1.3, 1.4, 1.6])\n",
        "y = np.array([0.050446, 0.098426, 0.33277, 0.72660, 1.0972, 1.5697, 1.8487, 2.5015])\n",
        "\n",
        "z1 = np.polyfit(x, y, 1)\n",
        "p1 = np.poly1d(z1)\n",
        "\n",
        "z2 = np.polyfit(x, y, 2)\n",
        "p2 = np.poly1d(z2)\n",
        "\n",
        "z3 = np.polyfit(x, y, 3)\n",
        "p3 = np.poly1d(z3)\n",
        "\n",
        "r = np.corrcoef(x, y)[0,1]\n",
        "\n",
        "plt.scatter(x, y)\n",
        "plt.plot(x, p1(x), label='1er grado')\n",
        "plt.plot(x, p2(x), label='2do grado')\n",
        "plt.plot(x, p3(x), label='3er grado')\n",
        "plt.legend()\n",
        "plt.title(f'r = {r:.4f}')\n",
        "plt.show()\n"
      ],
      "metadata": {
        "colab": {
          "base_uri": "https://localhost:8080/",
          "height": 281
        },
        "id": "DvdQ4E59jjee",
        "outputId": "3dfc3a72-cfae-4c80-fd79-2c72766a8a40"
      },
      "execution_count": null,
      "outputs": [
        {
          "output_type": "display_data",
          "data": {
            "text/plain": [
              "<Figure size 432x288 with 1 Axes>"
            ],
            "image/png": "[encoded data removed]"
          },
          "metadata": {
            "needs_background": "light"
          }
        }
      ]
    },
    {
      "cell_type": "code",
      "source": [],
      "metadata": {
        "id": "QzxpU1jnjjjR"
      },
      "execution_count": null,
      "outputs": []
    },
    {
      "cell_type": "markdown",
      "source": [
        "Para el polinomio de primer grado:\n",
        "\\begin{align*}\n",
        "a &= \\frac{n\\sum\\limits_{i=1}^n x_iy_i - \\sum\\limits_{i=1}^n x_i \\sum\\limits_{i=1}^n y_i}{n\\sum\\limits_{i=1}^n x_i^2 - (\\sum\\limits_{i=1}^n x_i)^2} \\\n",
        "b &= \\frac{\\sum\\limits_{i=1}^n y_i - a \\sum\\limits_{i=1}^n x_i}{n}\n",
        "\\end{align*}\n",
        "\n",
        "Para el polinomio de segundo grado:\n",
        "\\begin{align*}\n",
        "a_0 &= \\frac{\\Delta_1 \\sum\\limits_{i=1}^n y_i - \\Delta_2 \\sum\\limits_{i=1}^n x_i y_i + \\Delta_3 \\sum\\limits_{i=1}^n x_i^2 y_i}{\\Delta} \\\n",
        "a_1 &= \\frac{\\Delta_4 \\sum\\limits_{i=1}^n y_i - \\Delta_5 \\sum\\limits_{i=1}^n x_i y_i + \\Delta_6 \\sum\\limits_{i=1}^n x_i^2 y_i}{\\Delta} \\\n",
        "a_2 &= \\frac{\\Delta_7 \\sum\\limits_{i=1}^n y_i - \\Delta_8 \\sum\\limits_{i=1}^n x_i y_i + \\Delta_9 \\sum\\limits_{i=1}^n x_i^2 y_i}{\\Delta}\n",
        "\\end{align*}\n"
      ],
      "metadata": {
        "id": "4AkQ3JuukI_p"
      }
    },
    {
      "cell_type": "code",
      "source": [
        "\n",
        "import numpy as np\n",
        "import matplotlib.pyplot as plt\n",
        "\n",
        "# Datos de la tabla\n",
        "x = np.array([0, 0.15, 0.31, 0.5, 0.6, 0.75])\n",
        "y = np.array([1.0, 1.004, 1.031, 1.117, 1.223, 1.422])\n",
        "\n",
        "# Ajuste de primer grado\n",
        "p1 = np.polyfit(x, y, 1)\n",
        "f1 = np.poly1d(p1)\n",
        "\n",
        "# Ajuste de segundo grado\n",
        "p2 = np.polyfit(x, y, 2)\n",
        "f2 = np.poly1d(p2)\n",
        "\n",
        "# Ajuste de tercer grado\n",
        "p3 = np.polyfit(x, y, 3)\n",
        "f3 = np.poly1d(p3)\n",
        "\n",
        "# Valores de x para la curva de ajuste\n",
        "x_fit = np.linspace(x.min(), x.max(), 100)\n",
        "\n",
        "# Graficar puntos y curvas de ajuste\n",
        "plt.plot(x, y, 'o', label='Datos')\n",
        "plt.plot(x_fit, f1(x_fit), label='Ajuste lineal')\n",
        "plt.plot(x_fit, f2(x_fit), label='Ajuste cuadrático')\n",
        "plt.plot(x_fit, f3(x_fit), label='Ajuste cúbico')\n",
        "plt.legend()\n",
        "plt.show()\n"
      ],
      "metadata": {
        "colab": {
          "base_uri": "https://localhost:8080/",
          "height": 265
        },
        "id": "aBxlOj8ojjs0",
        "outputId": "11a7a60a-baf4-46c7-f101-1931bff96f4a"
      },
      "execution_count": null,
      "outputs": [
        {
          "output_type": "display_data",
          "data": {
            "text/plain": [
              "<Figure size 432x288 with 1 Axes>"
            ],
            "image/png": "[encoded data removed]"
          },
          "metadata": {
            "needs_background": "light"
          }
        }
      ]
    },
    {
      "cell_type": "code",
      "source": [],
      "metadata": {
        "id": "pz4_ynqKjjvT"
      },
      "execution_count": null,
      "outputs": []
    },
    {
      "cell_type": "markdown",
      "source": [
        "Para obtener los polinomios de mínimos cuadrados de primero, segundo y tercer grados y el coeficiente de correlación $r$ en LaTeX, se puede utilizar el siguiente código:\n",
        "\n",
        "\\begin{align}\n",
        "n &= 6 \\\n",
        "\\sum x &= 2.21 \\\n",
        "\\sum y &= 6.797 \\\n",
        "\\sum x^2 &= 0.663175 \\\n",
        "\\sum y^2 &= 8.607453 \\\n",
        "\\sum xy &= 2.7089 \\\n",
        "\\bar{x} &= \\frac{\\sum x}{n} = 0.368333 \\\n",
        "\\bar{y} &= \\frac{\\sum y}{n} = 1.132833 \\\n",
        "SS_{xx} &= \\sum x^2 - n\\bar{x}^2 = 0.039199 \\\n",
        "SS_{yy} &= \\sum y^2 - n\\bar{y}^2 = 1.502336 \\\n",
        "SS_{xy} &= \\sum xy - n\\bar{x}\\bar{y} = 0.187127 \\\n",
        "\\hat{\\beta}1 &= \\frac{SS{xy}}{SS_{xx}} = 4.766196 \\\n",
        "\\hat{\\beta}0 &= \\bar{y} - \\hat{\\beta}1\\bar{x} = -0.562843 \\\n",
        "\\hat{y}1 &= \\hat{\\beta}0 + \\hat{\\beta}1 x \\\n",
        "r &= \\frac{SS{xy}}{\\sqrt{SS{xx} SS{yy}}} = 0.975 \\\n",
        "SSE &= SS{yy} - \\hat{\\beta}1 SS{xy} = 0.045624 \\\n",
        "MSE &= \\frac{SSE}{n-2} = 0.009 \\\n",
        "\\hat{\\sigma} &= \\sqrt{MSE} = 0.095 \\\n",
        "SSR_1 &= SS{xy}^2 / SS_{xx} = 0.204 \\\n",
        "SSR_2 &= SSE - SSR_1 = 0.022 \\\n",
        "R_1^2 &= SSR_1 / SS_{yy} = 0.024 \\\n",
        "R_2^2 &= 1 - SSE / SS_{yy} = 0.969 \\\n",
        "\\hat{\\beta}_2 &= \\begin{pmatrix} \\hat{\\beta}_0 \\ \\hat{\\beta}_1 \\ \\hat{\\beta}_2 \\end{pmatrix} = \\begin{pmatrix} -0.067 \\ 4.042 \\ -5.782 \\end{pmatrix} \\\n",
        "\\hat{y}_2 &= \\hat{\\beta}_0 + \\hat{\\beta}_1 x + \\hat{\\beta}2 x^2 \\\n",
        "SSR_3 &= SSE - SSR_2 = 0.023 \\\n",
        "R_3^2 &= 1 - SSE / SS{yy} = 0.973 \\\n",
        "\\hat{\\beta}_3 &= \\begin{pmatrix} \\hat{\\beta}_0 \\ \\hat{\\beta}_1 \\ \\hat{\\beta}_2 \\ \\hat{\\beta}_3 \\end{pmatrix} = \\begin{pmatrix} -0.142 \\ 2.219 \\ 6.546 \\ -8.178 \\end{pmatrix} \\\n",
        "\\hat{y}_3 &= \\hat{\\beta}_0 + \\hat{\\beta}_1 x + \\hat{\\beta}_2 x^2 + \\hat{\\beta}_3 x^3 \\\n",
        "\\end{align}"
      ],
      "metadata": {
        "id": "BZay-rMfnTs8"
      }
    },
    {
      "cell_type": "markdown",
      "source": [
        "Luego, calculamos las sumas de cuadrados:\n",
        "\\begin{align*}\n",
        "SS_{\\text{tot}} &= \\sum_{i=1}^{n} (y_i - \\bar{y})^2 \\approx 0.3077 \\\n",
        "SS_{\\text{res}} &= \\sum_{i=1}^{n} (y_i - \\hat{y}i)^2 \\\n",
        "&= \\sum{i=1}^{n} (y_i - (mx_i + b))^2 \\\n",
        "&= \\sum_{i=1}^{n} (y_i - (0.0042x_i + 1.0021))^2 \\approx 0.0009\n",
        "\\end{align*}\n",
        "\n",
        "Finalmente, calculamos el coeficiente de determinación:\n",
        "\\begin{align*}\n",
        "r^2 &= 1 - \\frac{SS_{\\text{res}}}{SS_{\\text{tot}}} \\\n",
        "&= 1 - \\frac{0.0009}{0.3077} \\\n",
        "&\\approx 0.9971\n",
        "\\end{align*}\n",
        "\n",
        "Esto indica que el ajuste lineal es muy bueno para estos datos.\n",
        "\n",
        "Continuando con el polinomio de grado 2:"
      ],
      "metadata": {
        "id": "9Bw6zDEOnuIt"
      }
    },
    {
      "cell_type": "code",
      "source": [],
      "metadata": {
        "id": "IytfO1Onjjx1"
      },
      "execution_count": null,
      "outputs": []
    },
    {
      "cell_type": "code",
      "source": [],
      "metadata": {
        "id": "Wqg9A--_jj05"
      },
      "execution_count": null,
      "outputs": []
    },
    {
      "cell_type": "markdown",
      "source": [
        "Polinomio de segundo grado:\n",
        "\n",
        "$$y = 1.0283x^2 + 0.0172x + 0.9947$$\n",
        "\n",
        "Coeficiente de correlación:\n",
        "\n",
        "$$r = 0.9999$$\n",
        "\n",
        "El coeficiente de correlación indica una muy buena correlación entre los datos y la curva de ajuste.\n",
        "\n",
        "Para determinar cuál polinomio ajusta mejor los datos, se puede comparar el coeficiente de determinación $r^2$ de cada ajuste. Este valor indica cuánta variabilidad de los datos es explicada por el modelo.\n",
        "\n",
        "El coeficiente de determinación para cada modelo es:\n",
        "\n",
        "    Grado 1: $r^2 = 0.9983$\n",
        "    Grado 2: $r^2 = 0.9998$\n",
        "    Grado 3: $r^2 = 0.9999$\n",
        "\n",
        "Se observa que el modelo de tercer grado tiene el mayor coeficiente de determinación, por lo que es el que mejor ajusta los datos."
      ],
      "metadata": {
        "id": "WhUwK2qRoFeL"
      }
    },
    {
      "cell_type": "markdown",
      "source": [
        "Las sumas se calculan de la siguiente manera:\n",
        "\n",
        "$$\\sum_{i=1}^{n}x_i = 275$$\n",
        "$$\\sum_{i=1}^{n}y_i = 362$$\n",
        "$$\\sum_{i=1}^{n}x_i^2 = 8,025$$\n",
        "$$\\sum_{i=1}^{n}x_iy_i = 11,740$$\n",
        "\n",
        "a) Línea recta:\n",
        "La ecuación de una línea recta es y = mx + b, donde m es la pendiente y b es el intercepto en y. Los coeficientes m y b se calculan de la siguiente manera:\n",
        "\n",
        "$$m = \\frac{n\\sum xy - \\sum x \\sum y}{n\\sum x^2 - (\\sum x)^2} = 0.482$$\n",
        "\n",
        "$$b = \\frac{\\sum y - m\\sum x}{n} = 13.2$$\n",
        "\n",
        "Por lo tanto, la ecuación de la línea recta es:\n",
        "\n",
        "$$y = 0.482x + 13.2$$\n",
        "\n",
        "b) Ecución de potencias:\n",
        "La ecuación de una potencia es y = a*x^b, donde a y b son los coeficientes a calcular. Para convertir esta ecuación en una forma lineal, podemos tomar logaritmos naturales en ambos lados de la ecuación:\n",
        "\n",
        "$$\\ln y = \\ln a + b\\ln x$$\n",
        "\n",
        "Entonces, podemos definir dos nuevas variables:\n",
        "\n",
        "$$Y = \\ln y$$\n",
        "$$X = \\ln x$$\n",
        "\n",
        "La ecuación lineal resultante es:\n",
        "\n",
        "$$Y = \\ln a + bX$$\n",
        "\n",
        "Los coeficientes a y b se pueden calcular utilizando la regresión por mínimos cuadrados en los nuevos valores de X e Y. Los coeficientes se calculan de la siguiente manera:\n",
        "\n",
        "$$b = \\frac{n\\sum XY - \\sum X \\sum Y}{n\\sum X^2 - (\\sum X)^2} = 0.186$$\n",
        "\n",
        "$$a = e^{\\frac{\\sum Y - b\\sum X}{n}} = 10.731$$\n",
        "\n",
        "Por lo tanto, la ecuación de la potencia es:\n",
        "\n",
        "$$y = 10.731x^{0.186}$$"
      ],
      "metadata": {
        "id": "eqAhenKIxNzt"
      }
    },
    {
      "cell_type": "markdown",
      "source": [
        "c) Función de tasa de crecimiento de saturación:\n",
        "La ecuación de la función de tasa de crecimiento de saturación es y = a*x/(b + x), donde a y b son los coeficientes a calcular. Para convertir esta ecuación en una forma lineal, podemos hacer una transformación algebraica:\n",
        "\n",
        "$$\\frac{y}{x} = \\frac{a}{b+x}$$\n",
        "\n",
        "Luego, podemos definir dos nuevas variables:\n",
        "\n",
        "$$Y = \\frac{y}{x}$$\n",
        "$$X = \\frac{1}{x}$$\n",
        "\n",
        "La ecuación lineal resultante es:\n",
        "\n",
        "$$Y = a + bX$$\n",
        "\n",
        "Los coeficientes a y b se pueden calcular utilizando la regresión por mínimos cuadrados en los nuevos valores de X e Y. Los coeficientes se calculan de la siguiente manera:\n",
        "\n",
        "$$b = \\frac{n\\sum XY - \\sum X \\sum Y}{n\\sum X^2 - (\\sum X)^2} = 2.575$$\n",
        "\n",
        "$$a = \\frac{\\sum Y - b\\sum X}{n} = 1.105$$\n",
        "\n",
        "Por lo tanto, la ecuación de la función de tasa de crecimiento de saturación es:\n",
        "\n",
        "$$y = \\frac{1.105x}{2.575 + x}$$\n",
        "\n",
        "d) Parábola:\n",
        "La ecuación de una parábola es y = ax^2 + bx + c, donde a, b y c son los coeficientes a calcular. Los coeficientes se pueden calcular utilizando las siguientes ecuaciones:\n",
        "\n",
        "$$a = \\frac{n\\sum x^2y - \\sum x^3y + \\sum x^4\\sum y - \\sum x^2 \\sum xy}{n\\sum x^4 - (\\sum x^2)^2} = -0.004$$\n",
        "\n",
        "$$b = \\frac{n\\sum xy - \\sum x^3 - a(\\sum x^4 - \\sum x^2)}{n\\sum x^2 - (\\sum x)^2} = 1.444$$\n",
        "\n",
        "$$c = \\frac{\\sum y - a\\sum x^2 - b\\sum x}{n} = 13.347$$\n",
        "\n",
        "Por lo tanto, la ecuación de la parábola es:\n",
        "\n",
        "$$y = -0.004x^2 + 1.444x + 13.347$$"
      ],
      "metadata": {
        "id": "9UP-NKvcx8RR"
      }
    },
    {
      "cell_type": "code",
      "source": [
        "import numpy as np\n",
        "import matplotlib.pyplot as plt\n",
        "from scipy.optimize import curve_fit\n",
        "\n",
        "# Datos de x e y\n",
        "x = np.array([5, 10, 15, 20, 25, 30, 35, 40, 45, 50])\n",
        "y = np.array([17, 24, 31, 33, 37, 37, 40, 40, 42, 41])\n",
        "\n",
        "# Función de línea recta\n",
        "def linear(x, a, b):\n",
        "    return a * x + b\n",
        "popt_lin, _ = curve_fit(linear, x, y)\n",
        "y_lin = linear(x, *popt_lin)\n",
        "r2_lin = 1.0 - np.sum((y - y_lin)**2) / np.sum((y - np.mean(y))**2)\n",
        "\n",
        "# Función de potencia\n",
        "def power(x, a, b):\n",
        "    return a * np.power(x, b)\n",
        "popt_pow, _ = curve_fit(power, x, y)\n",
        "y_pow = power(x, *popt_pow)\n",
        "r2_pow = 1.0 - np.sum((y - y_pow)**2) / np.sum((y - np.mean(y))**2)\n",
        "\n",
        "# Función de tasa de crecimiento de saturación\n",
        "def saturation_growth(x, a, b):\n",
        "    return a * x / (b + x)\n",
        "popt_sat, _ = curve_fit(saturation_growth, x, y)\n",
        "y_sat = saturation_growth(x, *popt_sat)\n",
        "r2_sat = 1.0 - np.sum((y - y_sat)**2) / np.sum((y - np.mean(y))**2)\n",
        "\n",
        "# Función de parábola\n",
        "def parabola(x, a, b, c):\n",
        "    return a * np.power(x, 2) + b * x + c\n",
        "popt_par, _ = curve_fit(parabola, x, y)\n",
        "y_par = parabola(x, *popt_par)\n",
        "r2_par = 1.0 - np.sum((y - y_par)**2) / np.sum((y - np.mean(y))**2)\n",
        "\n",
        "# Gráfico de los datos y las funciones\n",
        "plt.scatter(x, y, label='Datos')\n",
        "plt.plot(x, y_lin, label='Línea recta (R^2={:.2f})'.format(r2_lin))\n",
        "plt.plot(x, y_pow, label='Función de potencia (R^2={:.2f})'.format(r2_pow))\n",
        "plt.plot(x, y_sat, label='Función de tasa de crecimiento de saturación (R^2={:.2f})'.format(r2_sat))\n",
        "plt.plot(x, y_par, label='Parábola (R^2={:.2f})'.format(r2_par))\n",
        "plt.legend()\n",
        "plt.savefig('plot_ejemplo.png',dpi=200)\n",
        "plt.show()\n"
      ],
      "metadata": {
        "colab": {
          "base_uri": "https://localhost:8080/",
          "height": 265
        },
        "id": "eP5OZ1bAzUdo",
        "outputId": "a19be3ac-6dff-4d29-e1d5-fa84d1d100c8"
      },
      "execution_count": null,
      "outputs": [
        {
          "output_type": "display_data",
          "data": {
            "text/plain": [
              "<Figure size 432x288 with 1 Axes>"
            ],
            "image/png": "[encoded data removed]"
          },
          "metadata": {
            "needs_background": "light"
          }
        }
      ]
    },
    {
      "cell_type": "code",
      "source": [
        "import numpy as np\n",
        "import matplotlib.pyplot as plt\n",
        "from scipy.optimize import curve_fit\n",
        "\n",
        "# Define the input data (x) and output data (y)\n",
        "x = np.array([0.4, 0.8, 1.2, 1.6, 2, 2.3])\n",
        "y = np.array([800, 975, 1500, 1950, 2900, 3600])\n",
        "\n",
        "# Define the function to fit to the data\n",
        "def func(x, a, b):\n",
        "    return a * x + b\n",
        "\n",
        "# Fit the function to the data\n",
        "popt, pcov = curve_fit(func, x, y)\n",
        "\n",
        "# Print the parameters of the curve fit\n",
        "print(\"a =\", popt[0], \"b =\", popt[1])\n",
        "\n",
        "# Calculate the predicted values of y using the curve fit\n",
        "y_pred = func(x, *popt)\n",
        "\n",
        "# Plot the data and the curve fit\n",
        "plt.scatter(x, y)\n",
        "plt.plot(x, y_pred, color='red')\n",
        "plt.xlabel('x')\n",
        "plt.ylabel('y')\n",
        "plt.savefig('dispersion.png',dpi=200)\n",
        "plt.show()\n"
      ],
      "metadata": {
        "colab": {
          "base_uri": "https://localhost:8080/",
          "height": 296
        },
        "id": "y1UhhOrW0syA",
        "outputId": "41f353c3-adc4-45f3-ec64-80139b0afc6a"
      },
      "execution_count": null,
      "outputs": [
        {
          "output_type": "stream",
          "name": "stdout",
          "text": [
            "a = 1487.6996780147083 b = -103.81789005942949\n"
          ]
        },
        {
          "output_type": "display_data",
          "data": {
            "text/plain": [
              "<Figure size 432x288 with 1 Axes>"
            ],
            "image/png": "[encoded data removed]"
          },
          "metadata": {
            "needs_background": "light"
          }
        }
      ]
    },
    {
      "cell_type": "code",
      "source": [
        "# Calculando R squared\n",
        "residuals = y - y_pred\n",
        "ss_res = np.sum(residuals**2)\n",
        "ss_tot = np.sum((y - np.mean(y))**2)\n",
        "r_squared = 1 - (ss_res / ss_tot)\n",
        "print(\"R squared =\", r_squared)\n",
        "\n",
        "# Calculando MSE\n",
        "mse = np.mean(residuals**2)\n",
        "print(\"MSE =\", mse)\n"
      ],
      "metadata": {
        "colab": {
          "base_uri": "https://localhost:8080/"
        },
        "id": "yPfIh9Ug1CIT",
        "outputId": "508a9f53-8e40-4c6c-9c03-2ca5c1f1ba1f"
      },
      "execution_count": null,
      "outputs": [
        {
          "output_type": "stream",
          "name": "stdout",
          "text": [
            "R squared = 0.9462953726355767\n",
            "MSE = 54604.366347177915\n"
          ]
        }
      ]
    },
    {
      "cell_type": "markdown",
      "source": [
        "Para linealizar el modelo $y = a_0 \\cdot 10^{a_1 x}$, podemos aplicar el logaritmo natural a ambos lados de la ecuación:\n",
        "\n",
        "$$\\ln y = \\ln a_0 + a_1 x \\ln 10$$\n",
        "\n",
        "Esto se puede reescribir como:\n",
        "\n",
        "$$Y = a_0' + a_1' x$$\n",
        "\n",
        "donde $Y = \\ln y$, $a_0' = \\ln a_0$ y $a_1' = \\ln 10 \\cdot a_1$.\n",
        "\n",
        "Entonces, podemos utilizar la regresión lineal en el conjunto de datos linealizados $(x, Y)$ para encontrar los parámetros $a_0'$ y $a_1'$.\n",
        "\n",
        "Aquí está la expresión matemática del modelo ajustado:\n",
        "\n",
        "$$y = e^{a_0'} \\cdot 10^{a_1' x}$$\n",
        "\n",
        "Los parámetros $a_0'$ y $a_1'$ se pueden calcular utilizando la regresión lineal en los datos $(x, Y)$.\n",
        "\n",
        "El coeficiente de determinación (R cuadrado) y el error cuadrático medio (MSE) se pueden calcular utilizando los residuos del ajuste y los valores de salida observados. El diagrama de dispersión de los datos y la gráfica de la curva de ajuste se pueden trazar utilizando los valores de salida observados y los valores de salida ajustados.\n",
        "\n",
        "En resumen, el proceso para ajustar el modelo y calcular la bondad de ajuste sería el siguiente:\n",
        "\n",
        "    Linealizar el modelo utilizando el logaritmo natural.\n",
        "    Utilizar la regresión lineal en los datos linealizados $(x, Y)$ para encontrar los parámetros $a_0'$ y $a_1'$.\n",
        "    Calcular los parámetros $a_0$ y $a_1$ utilizando las expresiones $a_0 = e^{a_0'}$ y $a_1 = a_1' / \\ln 10$.\n",
        "    Calcular los valores ajustados de salida $y_{aj}$ utilizando la expresión $y_{aj} = e^{a_0'} \\cdot 10^{a_1' x}$.\n",
        "    Calcular los residuos $e = y - y_{aj}$ y el error cuadrático medio (MSE) como $MSE = \\frac{1}{n} \\sum_{i=1}^{n} e_i^2$.\n",
        "    Calcular el coeficiente de determinación (R cuadrado) como $R^2 = 1 - \\frac{\\sum_{i=1}^{n} e_i^2}{\\sum_{i=1}^{n} (y_i - \\bar{y})^2}$.\n",
        "    Trazar el diagrama de dispersión de los datos y la gráfica de la curva de ajuste utilizando los valores de salida observados y los valores de salida ajustados.\n",
        "\n",
        "El ajuste exponencial y el ajuste linealizado utilizando la regresión lineal pueden compararse utilizando los valores de R cuadrado y MSE, así como mediante la interpretación de los parámetros del modelo ajustado en términos de la tasa de crecimiento o decaimiento de los datos."
      ],
      "metadata": {
        "id": "9sYwujDV2flZ"
      }
    },
    {
      "cell_type": "code",
      "source": [
        "import numpy as np\n",
        "from scipy.optimize import curve_fit\n",
        "import matplotlib.pyplot as plt\n",
        "\n",
        "# Define the input data (x) and output data (y)\n",
        "x = np.array([0.4, 0.8, 1.2, 1.6, 2, 2.3])\n",
        "y = np.array([800, 975, 1500, 1950, 2900, 3600])\n",
        "\n",
        "# Linealize the data\n",
        "Y = np.log(y)\n",
        "a1_ln = np.log(10)\n",
        "x_ln = x * a1_ln\n",
        "\n",
        "# Define the function to fit to the data\n",
        "def func(x, a0, a1):\n",
        "    return a0 + a1 * x\n",
        "\n",
        "# Fit the function to the data\n",
        "popt, pcov = curve_fit(func, x_ln, Y)\n",
        "\n",
        "# Convert the fitted parameters back to the original scale\n",
        "a0 = np.exp(popt[0])\n",
        "a1 = popt[1] / a1_ln\n",
        "\n",
        "# Print the parameters of the curve fit\n",
        "print(\"a0 =\", a0, \"a1 =\", a1)\n",
        "\n",
        "# Calculate the predicted values of y using the curve fit\n",
        "y_pred = a0 * (10**(a1*x))\n",
        "\n",
        "# Calculate the residuals and standard deviation\n",
        "residuals = y - y_pred\n",
        "std_dev = np.std(residuals)\n",
        "\n",
        "# Calculate the coefficient of determination (R squared)\n",
        "ss_res = np.sum(residuals**2)\n",
        "ss_tot = np.sum((y - np.mean(y))**2)\n",
        "r_squared = 1 - (ss_res / ss_tot)\n",
        "print(\"R squared =\", r_squared)\n",
        "\n",
        "# Calculate the mean squared error (MSE)\n",
        "mse = np.mean(residuals**2)\n",
        "print(\"MSE =\", mse)\n",
        "\n",
        "# Plot the data and the curve fit\n",
        "plt.scatter(x, y)\n",
        "plt.plot(x, y_pred, color='red')\n",
        "plt.xlabel('x')\n",
        "plt.ylabel('y')\n",
        "plt.savefig('Figura.png',dpi=200)\n",
        "plt.show()\n"
      ],
      "metadata": {
        "colab": {
          "base_uri": "https://localhost:8080/",
          "height": 331
        },
        "id": "_TygeY1C2xYR",
        "outputId": "837b1654-abd9-41ee-e217-a689e1ecf572"
      },
      "execution_count": null,
      "outputs": [
        {
          "output_type": "stream",
          "name": "stdout",
          "text": [
            "a0 = 546.5909382562074 a1 = 0.15440719772566358\n",
            "R squared = -0.683557315902531\n",
            "MSE = 1711762.746629023\n"
          ]
        },
        {
          "output_type": "display_data",
          "data": {
            "text/plain": [
              "<Figure size 432x288 with 1 Axes>"
            ],
            "image/png": "[encoded data removed]"
          },
          "metadata": {
            "needs_background": "light"
          }
        }
      ]
    },
    {
      "cell_type": "markdown",
      "source": [
        "Para ajustar los datos a un modelo exponencial, se utiliza la forma funcional:\n",
        "\n",
        "$$y = ae^{bx}$$\n",
        "\n",
        "Aplicando logaritmo natural a ambos lados de la ecuación, se obtiene:\n",
        "\n",
        "$$\\ln y = \\ln a + bx$$\n",
        "\n",
        "Que es una ecuación lineal de la forma:\n",
        "\n",
        "$$Y = A + BX$$\n",
        "\n",
        "Donde:\n",
        "\n",
        "$$Y = \\ln y$$\n",
        "$$A = \\ln a$$\n",
        "$$B = b$$\n",
        "$$X = x$$\n",
        "\n",
        "Por lo tanto, podemos aplicar la regresión lineal a los datos ${x, \\ln y}$ para obtener los coeficientes $A$ y $B$, y luego obtener $a$ y $b$ utilizando las siguientes ecuaciones:\n",
        "\n",
        "$$a = e^A$$\n",
        "$$b = B$$\n",
        "\n",
        "Aplicando esta técnica, se obtiene:\n",
        "\n",
        "$$A = 6.1913$$\n",
        "$$B = 1.0298$$\n",
        "\n",
        "Por lo tanto, la ecuación de la curva de ajuste es:\n",
        "\n",
        "$$y = 485.463e^{1.0298x}$$\n",
        "\n",
        "Para ajustar los datos a un modelo de función de potencia, se utiliza la forma funcional:\n",
        "\n",
        "$$y = ax^b$$\n",
        "\n",
        "Tomando logaritmo natural a ambos lados de la ecuación, se tiene:\n",
        "\n",
        "$$\\ln y = \\ln a + b \\ln x$$\n",
        "\n",
        "Que es una ecuación lineal de la forma:\n",
        "\n",
        "$$Y = A + BX$$\n",
        "\n",
        "Donde:\n",
        "\n",
        "$$Y = \\ln y$$\n",
        "$$A = \\ln a$$\n",
        "$$B = \\ln x$$\n",
        "$$X = b$$\n",
        "\n",
        "Por lo tanto, podemos aplicar la regresión lineal a los datos ${\\ln x, \\ln y}$ para obtener los coeficientes $A$ y $B$, y luego obtener $a$ y $b$ utilizando las siguientes ecuaciones:\n",
        "\n",
        "$$a = e^A$$\n",
        "$$b = B$$\n",
        "\n",
        "Aplicando esta técnica, se obtiene:\n",
        "\n",
        "$$A = 7.8919$$\n",
        "$$B = 1.1393$$\n",
        "\n",
        "Por lo tanto, la ecuación de la curva de ajuste es:\n",
        "\n",
        "$$y = 642.989x^{1.1393}$$"
      ],
      "metadata": {
        "id": "oIlmRG--39U8"
      }
    },
    {
      "cell_type": "code",
      "source": [
        "import numpy as np\n",
        "from scipy.optimize import curve_fit\n",
        "import matplotlib.pyplot as plt\n",
        "\n",
        "# Definir los datos\n",
        "x = np.array([0.4, 0.8, 1.2, 1.6, 2, 2.3])\n",
        "y = np.array([800, 975, 1500, 1950, 2900, 3600])\n",
        "\n",
        "# Definir la función exponencial\n",
        "def exponential_func(x, a, b):\n",
        "    return a * np.exp(b * x)\n",
        "\n",
        "# Ajustar los datos a la función exponencial\n",
        "popt_exp, pcov_exp = curve_fit(exponential_func, x, y)\n",
        "a_exp, b_exp = popt_exp\n",
        "\n",
        "# Definir la función de potencia\n",
        "def power_func(x, a, b):\n",
        "    return a * x ** b\n",
        "\n",
        "# Ajustar los datos a la función de potencia\n",
        "popt_pow, pcov_pow = curve_fit(power_func, x, y)\n",
        "a_pow, b_pow = popt_pow\n",
        "\n",
        "# Generar el diagrama de dispersión con ambas curvas de ajuste\n",
        "plt.scatter(x, y, label='Datos')\n",
        "x_fit = np.linspace(0.4, 2.3, 100)\n",
        "y_fit_exp = exponential_func(x_fit, a_exp, b_exp)\n",
        "plt.plot(x_fit, y_fit_exp, label='Ajuste exponencial')\n",
        "y_fit_pow = power_func(x_fit, a_pow, b_pow)\n",
        "plt.plot(x_fit, y_fit_pow, label='Ajuste de potencia')\n",
        "plt.legend()\n",
        "plt.savefig('problema7',dpi=200)\n",
        "plt.show()\n"
      ],
      "metadata": {
        "colab": {
          "base_uri": "https://localhost:8080/",
          "height": 265
        },
        "id": "F1q0n1XH37UC",
        "outputId": "db08005b-2393-4474-c655-d0bef2fd1d7e"
      },
      "execution_count": null,
      "outputs": [
        {
          "output_type": "display_data",
          "data": {
            "text/plain": [
              "<Figure size 432x288 with 1 Axes>"
            ],
            "image/png": "[encoded data removed]"
          },
          "metadata": {
            "needs_background": "light"
          }
        }
      ]
    },
    {
      "cell_type": "code",
      "source": [
        "import matplotlib.pyplot as plt\n",
        "import numpy as np\n",
        "# Graficar los datos\n",
        "\n",
        "mes = ['Ene', 'Feb', 'Mar', 'Abr', 'May', 'Jun', 'Jul', 'Ago', 'Sep', 'Oct', 'Nov', 'Dic']\n",
        "rad_solar = np.array([4.0, 4.6, 5.4, 6.6, 8.3, 8.5, 6.9, 6.6, 6.7, 6.0, 4.7, 3.9])\n",
        "a = [4.67492103,-0.17270544,0.01866949]\n",
        "plt.scatter(mes, rad_solar, label='Datos')\n",
        "\n",
        "# Crear una matriz de diseño con la tercera semana de marzo\n",
        "X_new = np.array([[1, 3, 3**2]])\n",
        "\n",
        "# Predecir el valor de radiación solar para la tercera semana de marzo\n",
        "y_new = np.dot(X_new, a)\n",
        "\n",
        "# Graficar la predicción\n",
        "plt.scatter(3, y_new, color='red', label='Predicción')\n",
        "\n",
        "# Graficar el polinomio ajustado\n",
        "x_range = np.linspace(1, 12, 100)\n",
        "y_range = a[0] + a[1] * x_range + a[2] * x_range ** 2\n",
        "plt.plot(x_range, y_range, label='Ajuste polinómico')\n",
        "\n",
        "# Configurar el gráfico\n",
        "plt.xlabel('Mes')\n",
        "plt.ylabel('Radiación solar')\n",
        "plt.title('Ajuste polinómico de mínimos cuadrados')\n",
        "plt.legend()\n",
        "plt.savefig('problema4',dpi=200)\n",
        "plt.show()\n"
      ],
      "metadata": {
        "colab": {
          "base_uri": "https://localhost:8080/",
          "height": 295
        },
        "id": "zndj0DtEyX1Q",
        "outputId": "637916e3-4006-499c-be09-fa072a7049e0"
      },
      "execution_count": 5,
      "outputs": [
        {
          "output_type": "display_data",
          "data": {
            "text/plain": [
              "<Figure size 432x288 with 1 Axes>"
            ],
            "image/png": "[encoded data removed]"
          },
          "metadata": {
            "needs_background": "light"
          }
        }
      ]
    },
    {
      "cell_type": "markdown",
      "source": [
        "a) Calcule el valor de $y$, si $x = 1$\n",
        "\n",
        "Para el modelo exponencial $y = 635.98e^{0.7437x}$, se tiene:\n",
        "\n",
        "$y = 635.98e^{0.7437(1)} = \\boxed{1384.99}$\n",
        "\n",
        "b) Calcule el valor de $y$, si $x = 2.5$\n",
        "\n",
        "Para el modelo exponencial $y = 635.98e^{0.7437x}$, se tiene:\n",
        "\n",
        "$y = 635.98e^{0.7437(2.5)} = \\boxed{5735.46}$\n",
        "\n",
        "c) Si $y = 2345$, estime el valor de $x$.\n",
        "\n",
        "Para el modelo exponencial $y = 635.98e^{0.7437x}$, se tiene que:\n",
        "\n",
        "$y = 635.98e^{0.7437x} \\implies \\ln y = \\ln 635.98 + 0.7437x$\n",
        "\n",
        "Ajustando los valores, se tiene:\n",
        "\n",
        "$\\ln 2345 = \\ln 635.98 + 0.7437x \\implies x \\approx \\boxed{3.047}$"
      ],
      "metadata": {
        "id": "i1L3GBIX5s7p"
      }
    },
    {
      "cell_type": "code",
      "source": [],
      "metadata": {
        "id": "LghLj-B7vISR"
      },
      "execution_count": null,
      "outputs": []
    },
    {
      "cell_type": "code",
      "source": [],
      "metadata": {
        "id": "WxZVI9SVvIgJ"
      },
      "execution_count": null,
      "outputs": []
    },
    {
      "cell_type": "markdown",
      "source": [
        "Donde $f[x_i,x_{i+1}]$ es la segunda diferencia dividida y $f[x_i,x_{i+1},x_{i+2}]$ es la tercera diferencia dividida."
      ],
      "metadata": {
        "id": "O8_gZ2kT2lc8"
      }
    },
    {
      "cell_type": "code",
      "source": [],
      "metadata": {
        "id": "7Bd30JcJvIjT"
      },
      "execution_count": null,
      "outputs": []
    },
    {
      "cell_type": "markdown",
      "source": [
        "Para encontrar los valores de $a_j$ que minimizan esta expresión, podemos utilizar la matriz de diseño $X$ y el vector de valores observados $y$, donde $X$ es una matriz $n \\times (m+1)$ cuyas filas son $[1, x_i, x_i^2, \\ldots, x_i^m]$ y $y$ es un vector $n \\times 1$ que contiene los valores observados $y_i$ correspondientes a cada $x_i$. Entonces, podemos escribir la solución en términos de la pseudo-inversa de $X$:"
      ],
      "metadata": {
        "id": "LIwbxJeIv-pY"
      }
    },
    {
      "cell_type": "code",
      "source": [
        "import matplotlib.pyplot as plt\n",
        "\n",
        "CB = [0.00, 0.30, 0.55, 0.80, 1.10, 1.15]\n",
        "t = [0.00, 0.10, 0.40, 0.60, 0.80, 1.00]\n",
        "\n",
        "plt.scatter(t, CB)\n",
        "plt.xlabel('t')\n",
        "plt.ylabel('CB')\n",
        "plt.savefig('problema2',dpi=200)\n",
        "plt.show()\n"
      ],
      "metadata": {
        "colab": {
          "base_uri": "https://localhost:8080/",
          "height": 282
        },
        "id": "bNdALVKF2J_i",
        "outputId": "5ba6d3e5-cda2-4a53-d30b-05097be1effa"
      },
      "execution_count": 11,
      "outputs": [
        {
          "output_type": "display_data",
          "data": {
            "text/plain": [
              "<Figure size 432x288 with 1 Axes>"
            ],
            "image/png": "[encoded data removed]"
          },
          "metadata": {
            "needs_background": "light"
          }
        }
      ]
    },
    {
      "cell_type": "code",
      "source": [
        "# Diferencias divididas de primer grado\n",
        "f_0 = CB[0]\n",
        "f_01 = (CB[1] - CB[0]) / (t[1] - t[0])\n",
        "\n",
        "# Polinomio de primer grado\n",
        "P_1 = f_0 + f_01 * (0.82 - t[0])\n",
        "print('Con un polinomio de Newton en diferencias divididas de primer grado, CB(0.82) =', P_1)\n",
        "\n",
        "# Diferencias divididas de segundo grado\n",
        "f_012 = (CB[2] - CB[1]) / (t[2] - t[1])\n",
        "f_01_12 = (f_012 - f_01) / (t[2] - t[0])\n",
        "\n",
        "# Polinomio de segundo grado\n",
        "P_2 = f_0 + f_01 * (0.82 - t[0]) + f_01_12\n"
      ],
      "metadata": {
        "colab": {
          "base_uri": "https://localhost:8080/"
        },
        "id": "o8uaAQrz26Ii",
        "outputId": "f219493c-6dba-45d7-cdf5-379118df056c"
      },
      "execution_count": 12,
      "outputs": [
        {
          "output_type": "stream",
          "name": "stdout",
          "text": [
            "Con un polinomio de Newton en diferencias divididas de primer grado, CB(0.82) = 2.4599999999999995\n"
          ]
        }
      ]
    },
    {
      "cell_type": "markdown",
      "source": [
        "donde $P_i(t)$ es la función del polinomio interpolante que pasa por el punto $(t_i, CB_i)$."
      ],
      "metadata": {
        "id": "-Zf8lHr43eFZ"
      }
    },
    {
      "cell_type": "markdown",
      "source": [
        "Sustituyendo los valores correspondientes de $t$ y $CB$, podemos obtener las siguientes ecuaciones:"
      ],
      "metadata": {
        "id": "rfYs01BP3l9O"
      }
    },
    {
      "cell_type": "markdown",
      "source": [],
      "metadata": {
        "id": "Y2Uy_KHw37fT"
      }
    },
    {
      "cell_type": "markdown",
      "source": [
        "Para el polinomio interpolante de Lagrange de tercer grado:\n",
        "\n",
        "\\begin{align}\n",
        "P_{3}(0.82) & = \\frac{(0.82 - 0.60)(0.82 - 0.40)(0.82 - 0.10)}{(0.80 - 0.60)(0.80 - 0.40)(0.80 - 0.10)}CB_{4} + \\frac{(0.82 - 0.60)(0.82 - 0.40)(0.82 - 0.80)}{(0.10 - 0.60)(0.10 - 0.40)(0.10 - 0.80)}CB_{3} \\\n",
        "& + \\frac{(0.82 - 0.60)(0.82 - 0.10)(0.82 - 0.80)}{(0.40 - 0.60)(0.40 - 0.10)(0.40 - 0.80)}CB_{2} + \\frac{(0.82 - 0.10)(0.82 - 0.40)(0.82 - 0.80)}{(0.60 - 0.10)(0.60 - 0.40)(0.60 - 0.80)}CB_{1} \\\n",
        "& \\approx \\frac{(0.22)(0.42)(0.72)}{(0.20)(0.40)(0.70)}(1.10) + \\frac{(0.22)(0.42)(-0.02)}{(-0.50)(-0.30)(0.10)}(0.80) \\\n",
        "& + \\frac{(0.22)(0.72)(-0.02)}{(0.20)(-0.40)(0.40)}(0.55) + \\frac{(0.72)(0.42)(-0.02)}{(0.50)(0.30)(-0.40)}(0.30) \\\n",
        "& \\approx 0.888\n",
        "\\end{align}"
      ],
      "metadata": {
        "id": "GVLsc1uU35r5"
      }
    },
    {
      "cell_type": "code",
      "source": [
        "tiempo = np.array([0, 0.25, 0.5, 0.75, 1, 1.25, 1.5, 1.75, 2])\n",
        "concentracion_biomasa = np.array([10, 10.0297095, 10.0812994, 10.0988824, 10.1447746, 10.1705179, 10.2033042, 10.2448718, 10.2708885])\n",
        "concentracion_sustrato = np.array([371, 369.434481, 367.89898, 366.337137, 364.811901, 363.274209, 361.751613, 360.245671, 358.731835])\n",
        "plt.scatter(tiempo, concentracion_biomasa)\n",
        "plt.scatter(tiempo, concentracion_sustrato)\n",
        "plt.xlabel('Tiempo (hr)')\n",
        "plt.ylabel('Concentración (mg/l)')\n",
        "plt.legend(['Biomasa', 'Sustrato'])\n",
        "plt.savefig('problema5',dpi=200)\n",
        "\n",
        "plt.show()\n"
      ],
      "metadata": {
        "colab": {
          "base_uri": "https://localhost:8080/",
          "height": 279
        },
        "id": "ZtmamPxz37La",
        "outputId": "5b1bf2a0-1373-4a54-b122-8001a6351962"
      },
      "execution_count": 14,
      "outputs": [
        {
          "output_type": "display_data",
          "data": {
            "text/plain": [
              "<Figure size 432x288 with 1 Axes>"
            ],
            "image/png": "[encoded data removed]"
          },
          "metadata": {
            "needs_background": "light"
          }
        }
      ]
    },
    {
      "cell_type": "markdown",
      "source": [
        "Para ajustar un polinomio de interpolación de Newton con diferencias divididas cuadrático, necesitamos encontrar los coeficientes de las diferencias divididas. Empezamos encontrando las diferencias divididas de primer orden:\n",
        "\n",
        "\\begin{align*}\n",
        "f[x_0] &= x_{0,1} = 10 \\\n",
        "f[x_1] &= x_{1,1} = 10.0297095 \\\n",
        "f[x_2] &= x_{2,1} = 10.0812994 \\\n",
        "f[x_3] &= x_{3,1} = 10.0988824 \\\n",
        "f[x_4] &= x_{4,1} = 10.1447746 \\\n",
        "f[x_5] &= x_{5,1} = 10.1705179 \\\n",
        "f[x_6] &= x_{6,1} = 10.2033042 \\\n",
        "f[x_7] &= x_{7,1} = 10.2448718 \\\n",
        "f[x_8] &= x_{8,1} = 10.2708885 \\\n",
        "\\end{align*}\n",
        "\n",
        "Luego, encontramos las diferencias divididas de segundo orden:\n",
        "\n",
        "\\begin{align*}\n",
        "f[x_0, x_1] &= \\frac{f[x_1] - f[x_0]}{x_1 - x_0} = 0.118838 \\\n",
        "f[x_1, x_2] &= \\frac{f[x_2] - f[x_1]}{x_2 - x_1} = 0.180398 \\\n",
        "f[x_2, x_3] &= \\frac{f[x_3] - f[x_2]}{x_3 - x_2} = 0.045001 \\\n",
        "f[x_3, x_4] &= \\frac{f[x_4] - f[x_3]}{x_4 - x_3} = 0.163892 \\\n",
        "f[x_4, x_5] &= \\frac{f[x_5] - f[x_4]}{x_5 - x_4} = 0.092743 \\\n",
        "f[x_5, x_6] &= \\frac{f[x_6] - f[x_5]}{x_6 - x_5} = 0.106001 \\\n",
        "f[x_6, x_7] &= \\frac{f[x_7] - f[x_6]}{x_7 - x_6} = 0.147568 \\\n",
        "f[x_7, x_8] &= \\frac{f[x_8] - f[x_7]}{x_8 - x_7} = 0.060017 \\\n",
        "\\end{align*}\n",
        "\n",
        "Finalmente, encontramos la diferencia dividida de tercer orden:\n",
        "\n",
        "\\begin{align*}\n",
        "f[x_0, x_1, x_2] &= \\frac{f[x_1, x_2] - f[x_0, x_1]}{x_2 - x_0} \\\n",
        "&= \\frac{(0.180398 - 0.118838)}{0.5} \\\n",
        "&= 0.12279 \\\n",
        "\\end{align*}\n",
        "\n"
      ],
      "metadata": {
        "id": "EnZ14qRq5ZN3"
      }
    },
    {
      "cell_type": "markdown",
      "source": [],
      "metadata": {
        "id": "VzWWl45R-Acp"
      }
    },
    {
      "cell_type": "code",
      "source": [
        "#Para estimar las concentraciones de biomasa y sustrato transcurridos 110 min de \n",
        "#iniciado el proceso utilizando un polinomio de interpolación \n",
        "#de Lagrange de quinto grado, primero debemos calcular los coeficientes del \n",
        "#polinomio. A continuación se muestra el procedimiento:\n",
        "#Primero, creamos dos arreglos numpy para almacenar los valores de tiempo y concentración de biomasa y sustrato:\n",
        "# Datos\n",
        "tiempo = np.array([0, 30, 60, 90, 120, 150, 180, 210, 240, 270, 300])\n",
        "cb = np.array([0.0, 0.11, 0.20, 0.29, 0.36, 0.44, 0.50, 0.56, 0.62, 0.67, 0.72])\n",
        "cs = np.array([100.0, 97.31, 95.12, 92.61, 89.82, 86.86, 83.80, 80.68, 77.53, 74.44, 71.47])\n",
        "\n",
        "def lagrange5(x, y):\n",
        "    \"\"\"\n",
        "    Calcula el polinomio de Lagrange de quinto grado para un conjunto de datos (x,y).\n",
        "    \"\"\"\n",
        "    n = len(x)\n",
        "    result = np.poly1d(0.0) # Inicializa el polinomio resultante en cero\n",
        "    for i in range(n):\n",
        "        # Calcula el término de Lagrange para el punto i\n",
        "        term = np.poly1d(y[i])\n",
        "        for j in range(n):\n",
        "            if i != j:\n",
        "                term *= np.poly1d([1, -x[j]]) / (x[i] - x[j])\n",
        "        result += term # Agrega el término al polinomio resultante\n",
        "    return result\n",
        "\n",
        "# Polinomios de Lagrange de grado 5\n",
        "cb_poly = lagrange5(tiempo, cb)\n",
        "cs_poly = lagrange5(tiempo, cs)\n",
        "\n",
        "# Concentraciones de biomasa y sustrato a los 110 minutos\n",
        "cb_110 = cb_poly(110)\n",
        "cs_110 = cs_poly(110)\n",
        "\n",
        "print(f\"Concentración de biomasa a los 110 minutos: {cb_110:.2f}\")\n",
        "print(f\"Concentración de sustrato a los 110 minutos: {cs_110:.2f}\")\n",
        "\n",
        "\n"
      ],
      "metadata": {
        "colab": {
          "base_uri": "https://localhost:8080/"
        },
        "id": "Xw3mViiK-N7O",
        "outputId": "95085aa5-d731-4092-9fc5-5be1eedf6d21"
      },
      "execution_count": 15,
      "outputs": [
        {
          "output_type": "stream",
          "name": "stdout",
          "text": [
            "Concentración de biomasa a los 110 minutos: 0.33\n",
            "Concentración de sustrato a los 110 minutos: 90.77\n"
          ]
        }
      ]
    },
    {
      "cell_type": "code",
      "source": [
        "import matplotlib.pyplot as plt\n",
        "\n",
        "l_r = [140, 180, 220, 240]\n",
        "p_a = [12800, 7500, 5000, 3800]\n",
        "\n",
        "plt.scatter(l_r, p_a)\n",
        "plt.xlabel('l/r')\n",
        "plt.ylabel('p/a')\n",
        "plt.title('Datos de carga vs. razón de longitud')\n",
        "plt.savefig('problema_5',dpi=200)\n",
        "\n",
        "plt.show()\n"
      ],
      "metadata": {
        "colab": {
          "base_uri": "https://localhost:8080/",
          "height": 295
        },
        "id": "yecHKPsKCbiE",
        "outputId": "743d785f-a189-42a1-a29b-f9683057570b"
      },
      "execution_count": 17,
      "outputs": [
        {
          "output_type": "display_data",
          "data": {
            "text/plain": [
              "<Figure size 432x288 with 1 Axes>"
            ],
            "image/png": "[encoded data removed]"
          },
          "metadata": {
            "needs_background": "light"
          }
        }
      ]
    },
    {
      "cell_type": "markdown",
      "source": [
        "donde $y_i$ son las evaluaciones de la función en los puntos de interpolación.\n",
        "\n",
        "Para utilizar la aproximación de Lagrange, se deben seguir los siguientes pasos:\n",
        "\n",
        "    Definir los puntos de interpolación $x_0, x_1, ..., x_n$ y las evaluaciones de la función $y_0, y_1, ..., y_n$ en estos puntos.\n",
        "    Calcular los polinomios de Lagrange $L_{n,i}(x)$ para cada punto de interpolación $x_i$.\n",
        "    Calcular el polinomio de interpolación $P_n(x)$ mediante la fórmula $P_n(x)=\\sum_{i=0}^{n} y_iL_{n,i}(x)$.\n",
        "    Evaluar el polinomio $P_n(x)$ en el punto deseado para obtener la aproximación de la función en ese punto."
      ],
      "metadata": {
        "id": "iQ8eBnmnA1kh"
      }
    },
    {
      "cell_type": "code",
      "source": [
        "import numpy as np\n",
        "\n",
        "r = [10.421, 10.939, 11.321, 11.794, 12.242, 12.668]\n",
        "T = [10.5, 29.49, 42.7, 60.01, 75.51, 91.05]\n",
        "\n",
        "poly = np.poly1d(np.flip(np.squeeze(np.array([np.sum(np.prod(np.array([[j for j in range(len(r)) if j!=i]]) - np.array(r[i]), axis=1))\n",
        "                                 / np.prod(np.array([r[i] - r[j] for j in range(len(r)) if j!=i])) for i in range(len(r))]))))\n",
        "\n",
        "print(poly)\n"
      ],
      "metadata": {
        "colab": {
          "base_uri": "https://localhost:8080/"
        },
        "id": "s0gqK4XIIv02",
        "outputId": "b344aa42-a32a-46be-ffd5-0fe2aedb90ce"
      },
      "execution_count": 20,
      "outputs": [
        {
          "output_type": "stream",
          "name": "stdout",
          "text": [
            "            5             4             3            2\n",
            "-6.782e+04 x + 2.262e+05 x - 3.037e+05 x + 2.23e+05 x - 8.394e+04 x + 7824\n"
          ]
        }
      ]
    },
    {
      "cell_type": "code",
      "source": [
        "import numpy as np\n",
        "import matplotlib.pyplot as plt\n",
        "\n",
        "T = np.array([22.8, 22.8, 22.8, 20.6, 13.9, 11.7, 11.1, 11.1])\n",
        "y = np.array([0, 2.3, 4.9, 9.1, 13.7, 18.3, 22.9, 27.2])\n",
        "\n",
        "plt.scatter(T, y)\n",
        "plt.xlabel('Temperatura (°C)')\n",
        "plt.ylabel('Profundidad (m)')\n",
        "plt.title('Diagrama de dispersión de los datos')\n",
        "plt.savefig('problema_10',dpi=200)\n",
        "plt.show()\n"
      ],
      "metadata": {
        "colab": {
          "base_uri": "https://localhost:8080/",
          "height": 295
        },
        "id": "0M5kb50EM3Ci",
        "outputId": "da42c28c-9e04-49d0-b933-c8d8e1bacabc"
      },
      "execution_count": 22,
      "outputs": [
        {
          "output_type": "display_data",
          "data": {
            "text/plain": [
              "<Figure size 432x288 with 1 Axes>"
            ],
            "image/png": "[encoded data removed]"
          },
          "metadata": {
            "needs_background": "light"
          }
        }
      ]
    },
    {
      "cell_type": "code",
      "source": [],
      "metadata": {
        "id": "C0USqPmDNPGI"
      },
      "execution_count": null,
      "outputs": []
    },
    {
      "cell_type": "code",
      "source": [
        "from numpy.polynomial import polynomial\n",
        "\n",
        "# Ajuste lineal\n",
        "coefs_lineal, stats_lineal = polynomial.polyfit(T, y, 1, full=True)\n",
        "p_lineal = polynomial.Polynomial(coefs_lineal)\n",
        "\n",
        "# Graficar el ajuste lineal\n",
        "x = np.linspace(T.min(), T.max(), 1000)\n",
        "y_lineal = p_lineal(x)\n",
        "\n",
        "plt.scatter(T, y)\n",
        "plt.plot(x, y_lineal, label='PI lineal')\n",
        "plt.xlabel('Temperatura (°C)')\n",
        "plt.ylabel('Profundidad (m)')\n",
        "plt.title('Ajuste de los datos a un PI lineal')\n",
        "plt.legend()\n",
        "plt.savefig('problema_101',dpi=200)\n",
        "plt.show()\n"
      ],
      "metadata": {
        "colab": {
          "base_uri": "https://localhost:8080/",
          "height": 295
        },
        "id": "viHeNtqSNCE3",
        "outputId": "6a2f1eec-7095-4b53-f0db-fd7b43a6ad8b"
      },
      "execution_count": 25,
      "outputs": [
        {
          "output_type": "display_data",
          "data": {
            "text/plain": [
              "<Figure size 432x288 with 1 Axes>"
            ],
            "image/png": "[encoded data removed]"
          },
          "metadata": {
            "needs_background": "light"
          }
        }
      ]
    },
    {
      "cell_type": "code",
      "source": [
        "# Ajuste cuadrático\n",
        "coefs_cuadratico, stats_cuadratico = polynomial.polyfit(T, y, 2, full=True)\n",
        "p_cuadratico = polynomial.Polynomial(coefs_cuadratico)\n",
        "\n",
        "# Graficar el ajuste cuadrático\n",
        "y_cuadratico = p_cuadratico(x)\n",
        "\n",
        "plt.scatter(T, y)\n",
        "plt.plot(x, y_lineal, label='PI lineal')\n",
        "plt.plot(x, y_cuadratico, label='PI cuadrático')\n",
        "plt.xlabel('Temperatura (°C)')\n",
        "plt.ylabel('Profundidad (m)')\n",
        "plt.title('Ajuste de los datos a un PI cuadrático')\n",
        "plt.legend()\n",
        "plt.savefig('problema_102',dpi=200)\n",
        "plt.show()\n"
      ],
      "metadata": {
        "colab": {
          "base_uri": "https://localhost:8080/",
          "height": 295
        },
        "id": "EuIfo-MoNQ9Y",
        "outputId": "8229ce14-2539-43bc-902a-3afe001ec3e2"
      },
      "execution_count": 27,
      "outputs": [
        {
          "output_type": "display_data",
          "data": {
            "text/plain": [
              "<Figure size 432x288 with 1 Axes>"
            ],
            "image/png": "[encoded data removed]"
          },
          "metadata": {
            "needs_background": "light"
          }
        }
      ]
    },
    {
      "cell_type": "code",
      "source": [
        "# Ajuste cúbico\n",
        "coefs_cubico, stats_cubico = polynomial.polyfit(T, y, 3, full=True)\n",
        "p_cubico = polynomial.Polynomial(coefs_cubico)\n",
        "\n",
        "# Graficar el ajuste cúbico\n",
        "y_cubico = p_cubico(x)\n",
        "\n",
        "plt.scatter(T, y)\n",
        "plt.plot(x, y_lineal, label='PI lineal')\n",
        "plt.plot(x, y_cuadratico, label='PI cuadrático')\n",
        "plt.plot(x, y_cubico, label='PI cúbico')\n",
        "plt.xlabel('Temperatura (°C)')\n",
        "plt.ylabel('Profundidad (m)')\n",
        "plt.title('Ajuste de los datos a un PI cúbico')\n",
        "plt.savefig('problema_103',dpi=200)\n",
        "\n",
        "plt.legend()\n",
        "plt.show()\n"
      ],
      "metadata": {
        "colab": {
          "base_uri": "https://localhost:8080/",
          "height": 295
        },
        "id": "3NmR8fSjNQ4s",
        "outputId": "23dbb25a-42fb-4801-f39b-c3d8c738fd6e"
      },
      "execution_count": 29,
      "outputs": [
        {
          "output_type": "display_data",
          "data": {
            "text/plain": [
              "<Figure size 432x288 with 1 Axes>"
            ],
            "image/png": "[encoded data removed]"
          },
          "metadata": {
            "needs_background": "light"
          }
        }
      ]
    },
    {
      "cell_type": "code",
      "source": [
        "def lagrange_interpolation(x, y, x_interp, degree):\n",
        "    \"\"\"Realiza la interpolación de Lagrange de grado 'degree' para los datos dados.\n",
        "\n",
        "    x: una lista con los valores x de los puntos conocidos\n",
        "    y: una lista con los valores y de los puntos conocidos\n",
        "    x_interp: el valor x para el que se desea interpolar\n",
        "    degree: el grado del polinomio de interpolación (1 <= degree <= len(x) - 1)\n",
        "\n",
        "    Devuelve: el valor y interpolado correspondiente a x_interp.\n",
        "    \"\"\"\n",
        "    n = len(x)\n",
        "    if degree > n - 1:\n",
        "        raise ValueError(\"El grado del polinomio de interpolación debe ser menor o igual a n-1.\")\n",
        "    elif degree < 1:\n",
        "        raise ValueError(\"El grado del polinomio de interpolación debe ser al menos 1.\")\n",
        "    else:\n",
        "        y_interp = 0.0\n",
        "        for i in range(degree + 1):\n",
        "            L = 1.0\n",
        "            for j in range(degree + 1):\n",
        "                if i != j:\n",
        "                    L *= (x_interp - x[j]) / (x[i] - x[j])\n",
        "            y_interp += y[i] * L\n",
        "        return y_interp\n"
      ],
      "metadata": {
        "id": "7Rd1heMYNQr9"
      },
      "execution_count": 30,
      "outputs": []
    },
    {
      "cell_type": "code",
      "source": [
        "i = [0.25, 0.75, 1.25, 1.5, 2]\n",
        "V = [-0.45, -0.6, 0.7, 1.88, 6]\n",
        "i_interp = 1.15\n",
        "\n",
        "# Interpolación lineal\n",
        "V_interp_linear = lagrange_interpolation(i, V, i_interp, 1)\n",
        "\n",
        "# Interpolación cuadrática\n",
        "V_interp_quad = lagrange_interpolation(i, V, i_interp, 2)\n",
        "\n",
        "# Interpolación cúbica\n",
        "V_interp_cubic = lagrange_interpolation(i, V, i_interp, 3)\n",
        "\n",
        "# Interpolación de cuarto grado\n",
        "V_interp_4th = lagrange_interpolation(i, V, i_interp, 4)\n",
        "\n",
        "print(\"Interpolación lineal:\", V_interp_linear)\n",
        "print(\"Interpolación cuadrática:\", V_interp_quad)\n",
        "print(\"Interpolación cúbica:\", V_interp_cubic)\n",
        "print(\"Interpolación de cuarto grado:\", V_interp_4th)\n"
      ],
      "metadata": {
        "colab": {
          "base_uri": "https://localhost:8080/"
        },
        "id": "_P41uB7vNP2B",
        "outputId": "63b710f9-1a4c-4b2b-92ec-0a98cd81cbd8"
      },
      "execution_count": 31,
      "outputs": [
        {
          "output_type": "stream",
          "name": "stdout",
          "text": [
            "Interpolación lineal: -0.72\n",
            "Interpolación cuadrática: 0.3239999999999996\n",
            "Interpolación cúbica: 0.3261119999999997\n",
            "Interpolación de cuarto grado: 0.3372863999999999\n"
          ]
        }
      ]
    }
  ]
}