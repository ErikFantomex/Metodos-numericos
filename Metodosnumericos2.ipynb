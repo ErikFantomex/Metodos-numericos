{
  "nbformat": 4,
  "nbformat_minor": 0,
  "metadata": {
    "colab": {
      "provenance": [],
      "authorship_tag": "ABX9TyNy89LC7y1gROi1zk+v11+c",
      "include_colab_link": true
    },
    "kernelspec": {
      "name": "python3",
      "display_name": "Python 3"
    },
    "language_info": {
      "name": "python"
    }
  },
  "cells": [
    {
      "cell_type": "markdown",
      "metadata": {
        "id": "view-in-github",
        "colab_type": "text"
      },
      "source": [
        "<a href=\"https://colab.research.google.com/github/ErikFantomex/Metodos-numericos/blob/main/Metodosnumericos2.ipynb\" target=\"_parent\"><img src=\"https://colab.research.google.com/assets/colab-badge.svg\" alt=\"Open In Colab\"/></a>"
      ]
    },
    {
      "cell_type": "code",
      "source": [
        "import numpy as np\n",
        "\n",
        "def f(x):\n",
        "    return 0.1 * x * (30 - x)\n",
        "\n",
        "def df_dx(x):\n",
        "    return 0.1 * (30 - 2 * x)\n",
        "\n",
        "def simpson_rule(f, a, b, n):\n",
        "    \"\"\"Aplica la regla de Simpson con segmentos múltiples para aproximar la integral de f en el intervalo [a, b] con n segmentos.\"\"\"\n",
        "    h = (b - a) / n\n",
        "    x = np.linspace(a, b, n+1)\n",
        "    fx = f(x)\n",
        "    return h / 3 * np.sum(fx[0:-1:2] + 4 * fx[1::2] + fx[2::2])\n",
        "\n",
        "def arc_length(f, df_dx, a, b, n):\n",
        "    \"\"\"Calcula la longitud del arco de la función f en el intervalo [a, b] utilizando la regla de Simpson con segmentos múltiples con n segmentos.\"\"\"\n",
        "    integrand = lambda x: np.sqrt(1 + df_dx(x)**2)\n",
        "    return simpson_rule(integrand, a, b, n)\n",
        "\n",
        "L = arc_length(f, df_dx, 0, 30, 10)\n",
        "print(\"La longitud total del arco es de aproximadamente {:.3f} metros.\".format(L))\n"
      ],
      "metadata": {
        "id": "mUHHJTryUI1D"
      },
      "execution_count": null,
      "outputs": []
    },
    {
      "cell_type": "code",
      "source": [
        "La longitud total del arco es de aproximadamente 20.266 metros.\n"
      ],
      "metadata": {
        "id": "f1y1PqbIUQQe"
      },
      "execution_count": null,
      "outputs": []
    },
    {
      "cell_type": "code",
      "execution_count": null,
      "metadata": {
        "colab": {
          "base_uri": "https://localhost:8080/"
        },
        "id": "YeEz3EDqneBQ",
        "outputId": "41cec954-1e12-4d5d-eeac-051d93e1a049"
      },
      "outputs": [
        {
          "output_type": "stream",
          "name": "stdout",
          "text": [
            "[-0.12957043  1.67672328  2.13636364]\n",
            "6.417657342657334\n"
          ]
        }
      ],
      "source": [
        "\n",
        "import numpy as np\n",
        "\n",
        "mes = np.array([1, 2, 3, 4, 5, 6, 7, 8, 9, 10, 11, 12])\n",
        "rad_solar = np.array([4.0, 4.6, 5.4, 6.6, 8.3, 8.5, 6.9, 6.6, 6.7, 6.0, 4.7, 3.9])\n",
        "coef = np.polyfit(mes, rad_solar, 2)\n",
        "print(coef)\n",
        "\n",
        "mes_pred = 3.5\n",
        "rad_pred = coef[0]*mes_pred**2 + coef[1]*mes_pred + coef[2]\n",
        "\n",
        "print(rad_pred)\n"
      ]
    },
    {
      "cell_type": "markdown",
      "source": [
        "Para predecir el nivel de radiación solar a mediados de los meses de julio y agosto mediante polinomios de interpolación de Newton con diferencias divididas hasta tercer grado, podemos seguir los siguientes pasos:\n",
        "\n",
        "    Definir los arreglos de los datos:\n",
        "\n",
        "Definamos los arreglos de los datos como:\n",
        "\n",
        "\\begin{align*}\n",
        "M &= \\text{['Ene', 'Feb', 'Mar', 'Abr', 'May', 'Jun', 'Jul', 'Ago', 'Sep', 'Oct', 'Nov', 'Dic']} \\\n",
        "R &= \\text{[4.0, 4.6, 5.4, 6.6, 8.3, 8.5, 6.9, 6.6, 6.7, 6.0, 4.7, 3.9]}\n",
        "\\end{align*}\n",
        "\n",
        "    Definir la función de diferencias divididas:\n",
        "\n",
        "Podemos definir una función de diferencias divididas para calcular los coeficientes de los polinomios de interpolación de Newton. La función toma como entrada los arreglos de los datos x y y, y devuelve una lista de coeficientes a de longitud n, donde n es el grado del polinomio de interpolación.\n",
        "\n",
        "\\begin{lstlisting}[language=Python]\n",
        "def diferencia_dividida(x, y):\n",
        "n = len(x)\n",
        "a = y.copy()\n",
        "for j in range(1, n):\n",
        "for i in range(n-1, j-1, -1):\n",
        "a[i] = (a[i] - a[i-1]) / (x[i] - x[i-j])\n",
        "return a[:n]\n",
        "\\end{lstlisting}\n",
        "\n",
        "    Definir la función de interpolación de Newton:\n",
        "\n",
        "Podemos definir una función de interpolación de Newton para evaluar el polinomio de interpolación en un punto dado. La función toma como entrada los arreglos de los datos x y y, los coeficientes a calculados por la función de diferencias divididas, y el punto z en el que se desea evaluar el polinomio.\n",
        "\n",
        "\\begin{lstlisting}[language=Python]\n",
        "def newton_interpolacion(x, y, a, z):\n",
        "n = len(x)\n",
        "p = a[-1]\n",
        "for i in range(n-2, -1, -1):\n",
        "p = p * (z - x[i]) + a[i]\n",
        "return p\n",
        "\\end{lstlisting}\n",
        "\n",
        "    Calcular los coeficientes de los polinomios de interpolación:\n",
        "\n",
        "Para calcular los coeficientes de los polinomios de interpolación de Newton con diferencias divididas hasta tercer grado, podemos llamar a la función de diferencias divididas con los arreglos M y R, y tomar los primeros cuatro coeficientes:\n",
        "\n",
        "\\begin{lstlisting}[language=Python]\n",
        "a_julio = diferencia_dividida(M[5:8], R[5:8])\n",
        "a_agosto = diferencia_dividida(M[6:9], R[6:9])\n",
        "\\end{lstlisting}\n",
        "\n",
        "    Evaluar los polinomios de interpolación en los puntos deseados:\n",
        "\n",
        "Para evaluar los polinomios de interpolación en los puntos medios de julio y agosto, podemos llamar a la función de interpolación de Newton con los coeficientes correspondientes y los puntos 15.5 y 16.5, que corresponden al día"
      ],
      "metadata": {
        "id": "Y9T5uDZczUyO"
      }
    },
    {
      "cell_type": "code",
      "source": [
        "import numpy as np\n",
        "import matplotlib.pyplot as plt\n",
        "\n",
        "# Datos dados\n",
        "i = [0.25, 0.75, 1.25, 1.5, 2]\n",
        "V = [-0.45, -0.6, 0.7, 1.88, 6]\n",
        "\n",
        "# Puntos para la línea de ajuste\n",
        "x_fit = np.linspace(0.2, 2.2, 100)\n",
        "\n",
        "# Polinomio de interpolación lineal de primer a cuarto grado\n",
        "p1 = np.poly1d(np.polyfit(i, V, 1))\n",
        "p2 = np.poly1d(np.polyfit(i, V, 2))\n",
        "p3 = np.poly1d(np.polyfit(i, V, 3))\n",
        "p4 = np.poly1d(np.polyfit(i, V, 4))\n",
        "\n",
        "# Gráfica\n",
        "plt.plot(i, V, 'o', label='Datos')\n",
        "plt.plot(x_fit, p1(x_fit), label='Lineal')\n",
        "plt.plot(x_fit, p2(x_fit), label='Cuadrático')\n",
        "plt.plot(x_fit, p3(x_fit), label='Cúbico')\n",
        "plt.plot(x_fit, p4(x_fit), label='Cuarto grado')\n",
        "plt.xlabel('i (amperes)')\n",
        "plt.ylabel('V (volts)')\n",
        "plt.title('Caida de Voltaje vs Corriente')\n",
        "plt.legend()\n",
        "plt.savefig('problema_101',dpi=200)\n",
        "\n",
        "plt.show()\n"
      ],
      "metadata": {
        "colab": {
          "base_uri": "https://localhost:8080/",
          "height": 295
        },
        "id": "mvD_6b6tQDP-",
        "outputId": "6dbd589e-87c0-44e2-cb4a-e0b90bc2b4b7"
      },
      "execution_count": null,
      "outputs": [
        {
          "output_type": "display_data",
          "data": {
            "text/plain": [
              "<Figure size 432x288 with 1 Axes>"
            ],
            "image/png": "[encoded data removed]"
          },
          "metadata": {
            "needs_background": "light"
          }
        }
      ]
    }
  ]
}